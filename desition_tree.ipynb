{
 "cells": [
  {
   "cell_type": "code",
   "execution_count": 3,
   "outputs": [
    {
     "name": "stdout",
     "output_type": "stream",
     "text": [
      "Collecting tensorflowNote: you may need to restart the kernel to use updated packages.\n",
      "\n",
      "  Using cached tensorflow-2.12.0-cp310-cp310-win_amd64.whl (1.9 kB)\n",
      "Collecting tensorflow-intel==2.12.0 (from tensorflow)\n",
      "  Using cached tensorflow_intel-2.12.0-cp310-cp310-win_amd64.whl (272.8 MB)\n",
      "Collecting absl-py>=1.0.0 (from tensorflow-intel==2.12.0->tensorflow)\n",
      "  Using cached absl_py-1.4.0-py3-none-any.whl (126 kB)\n",
      "Collecting astunparse>=1.6.0 (from tensorflow-intel==2.12.0->tensorflow)\n",
      "  Using cached astunparse-1.6.3-py2.py3-none-any.whl (12 kB)\n",
      "Requirement already satisfied: flatbuffers>=2.0 in c:\\users\\user\\appdata\\local\\programs\\python\\python310\\lib\\site-packages (from tensorflow-intel==2.12.0->tensorflow) (23.5.26)\n",
      "Collecting gast<=0.4.0,>=0.2.1 (from tensorflow-intel==2.12.0->tensorflow)\n",
      "  Using cached gast-0.4.0-py3-none-any.whl (9.8 kB)\n",
      "Collecting google-pasta>=0.1.1 (from tensorflow-intel==2.12.0->tensorflow)\n",
      "  Using cached google_pasta-0.2.0-py3-none-any.whl (57 kB)\n",
      "Collecting h5py>=2.9.0 (from tensorflow-intel==2.12.0->tensorflow)\n",
      "  Using cached h5py-3.8.0-cp310-cp310-win_amd64.whl (2.6 MB)\n",
      "Collecting jax>=0.3.15 (from tensorflow-intel==2.12.0->tensorflow)\n",
      "  Using cached jax-0.4.12-py3-none-any.whl\n",
      "Requirement already satisfied: libclang>=13.0.0 in c:\\users\\user\\appdata\\local\\programs\\python\\python310\\lib\\site-packages (from tensorflow-intel==2.12.0->tensorflow) (16.0.0)\n",
      "Requirement already satisfied: numpy<1.24,>=1.22 in c:\\users\\user\\appdata\\local\\programs\\python\\python310\\lib\\site-packages (from tensorflow-intel==2.12.0->tensorflow) (1.23.5)\n",
      "Collecting opt-einsum>=2.3.2 (from tensorflow-intel==2.12.0->tensorflow)\n",
      "  Using cached opt_einsum-3.3.0-py3-none-any.whl (65 kB)\n",
      "Requirement already satisfied: packaging in c:\\users\\user\\appdata\\local\\programs\\python\\python310\\lib\\site-packages (from tensorflow-intel==2.12.0->tensorflow) (22.0)\n",
      "Requirement already satisfied: protobuf!=4.21.0,!=4.21.1,!=4.21.2,!=4.21.3,!=4.21.4,!=4.21.5,<5.0.0dev,>=3.20.3 in c:\\users\\user\\appdata\\local\\programs\\python\\python310\\lib\\site-packages (from tensorflow-intel==2.12.0->tensorflow) (3.20.3)\n",
      "Requirement already satisfied: setuptools in c:\\users\\user\\appdata\\local\\programs\\python\\python310\\lib\\site-packages (from tensorflow-intel==2.12.0->tensorflow) (58.1.0)\n",
      "Requirement already satisfied: six>=1.12.0 in c:\\users\\user\\appdata\\local\\programs\\python\\python310\\lib\\site-packages (from tensorflow-intel==2.12.0->tensorflow) (1.16.0)\n",
      "Requirement already satisfied: termcolor>=1.1.0 in c:\\users\\user\\appdata\\local\\programs\\python\\python310\\lib\\site-packages (from tensorflow-intel==2.12.0->tensorflow) (2.3.0)\n",
      "Requirement already satisfied: typing-extensions>=3.6.6 in c:\\users\\user\\appdata\\local\\programs\\python\\python310\\lib\\site-packages (from tensorflow-intel==2.12.0->tensorflow) (4.5.0)\n",
      "Requirement already satisfied: wrapt<1.15,>=1.11.0 in c:\\users\\user\\appdata\\local\\programs\\python\\python310\\lib\\site-packages (from tensorflow-intel==2.12.0->tensorflow) (1.14.1)\n",
      "Collecting grpcio<2.0,>=1.24.3 (from tensorflow-intel==2.12.0->tensorflow)\n",
      "  Using cached grpcio-1.54.2-cp310-cp310-win_amd64.whl (4.1 MB)\n",
      "Collecting tensorboard<2.13,>=2.12 (from tensorflow-intel==2.12.0->tensorflow)\n",
      "  Using cached tensorboard-2.12.3-py3-none-any.whl (5.6 MB)\n",
      "Requirement already satisfied: tensorflow-estimator<2.13,>=2.12.0 in c:\\users\\user\\appdata\\local\\programs\\python\\python310\\lib\\site-packages (from tensorflow-intel==2.12.0->tensorflow) (2.12.0)\n",
      "Collecting keras<2.13,>=2.12.0 (from tensorflow-intel==2.12.0->tensorflow)\n",
      "  Using cached keras-2.12.0-py2.py3-none-any.whl (1.7 MB)\n",
      "Requirement already satisfied: tensorflow-io-gcs-filesystem>=0.23.1 in c:\\users\\user\\appdata\\local\\programs\\python\\python310\\lib\\site-packages (from tensorflow-intel==2.12.0->tensorflow) (0.31.0)\n",
      "Requirement already satisfied: wheel<1.0,>=0.23.0 in c:\\users\\user\\appdata\\local\\programs\\python\\python310\\lib\\site-packages (from astunparse>=1.6.0->tensorflow-intel==2.12.0->tensorflow) (0.40.0)\n",
      "Collecting ml-dtypes>=0.1.0 (from jax>=0.3.15->tensorflow-intel==2.12.0->tensorflow)\n",
      "  Using cached ml_dtypes-0.2.0-cp310-cp310-win_amd64.whl (938 kB)\n",
      "Requirement already satisfied: scipy>=1.7 in c:\\users\\user\\appdata\\local\\programs\\python\\python310\\lib\\site-packages (from jax>=0.3.15->tensorflow-intel==2.12.0->tensorflow) (1.10.1)\n",
      "Requirement already satisfied: google-auth<3,>=1.6.3 in c:\\users\\user\\appdata\\local\\programs\\python\\python310\\lib\\site-packages (from tensorboard<2.13,>=2.12->tensorflow-intel==2.12.0->tensorflow) (2.17.3)\n",
      "Collecting google-auth-oauthlib<1.1,>=0.5 (from tensorboard<2.13,>=2.12->tensorflow-intel==2.12.0->tensorflow)\n",
      "  Using cached google_auth_oauthlib-1.0.0-py2.py3-none-any.whl (18 kB)\n",
      "Collecting markdown>=2.6.8 (from tensorboard<2.13,>=2.12->tensorflow-intel==2.12.0->tensorflow)\n",
      "  Using cached Markdown-3.4.3-py3-none-any.whl (93 kB)\n",
      "Requirement already satisfied: requests<3,>=2.21.0 in c:\\users\\user\\appdata\\local\\programs\\python\\python310\\lib\\site-packages (from tensorboard<2.13,>=2.12->tensorflow-intel==2.12.0->tensorflow) (2.28.2)\n",
      "Requirement already satisfied: tensorboard-data-server<0.8.0,>=0.7.0 in c:\\users\\user\\appdata\\local\\programs\\python\\python310\\lib\\site-packages (from tensorboard<2.13,>=2.12->tensorflow-intel==2.12.0->tensorflow) (0.7.0)\n",
      "Requirement already satisfied: werkzeug>=1.0.1 in c:\\users\\user\\appdata\\local\\programs\\python\\python310\\lib\\site-packages (from tensorboard<2.13,>=2.12->tensorflow-intel==2.12.0->tensorflow) (2.2.2)\n",
      "Requirement already satisfied: cachetools<6.0,>=2.0.0 in c:\\users\\user\\appdata\\local\\programs\\python\\python310\\lib\\site-packages (from google-auth<3,>=1.6.3->tensorboard<2.13,>=2.12->tensorflow-intel==2.12.0->tensorflow) (5.3.0)\n",
      "Requirement already satisfied: pyasn1-modules>=0.2.1 in c:\\users\\user\\appdata\\local\\programs\\python\\python310\\lib\\site-packages (from google-auth<3,>=1.6.3->tensorboard<2.13,>=2.12->tensorflow-intel==2.12.0->tensorflow) (0.3.0)\n",
      "Requirement already satisfied: rsa<5,>=3.1.4 in c:\\users\\user\\appdata\\local\\programs\\python\\python310\\lib\\site-packages (from google-auth<3,>=1.6.3->tensorboard<2.13,>=2.12->tensorflow-intel==2.12.0->tensorflow) (4.9)\n",
      "Requirement already satisfied: requests-oauthlib>=0.7.0 in c:\\users\\user\\appdata\\local\\programs\\python\\python310\\lib\\site-packages (from google-auth-oauthlib<1.1,>=0.5->tensorboard<2.13,>=2.12->tensorflow-intel==2.12.0->tensorflow) (1.3.1)\n",
      "Requirement already satisfied: charset-normalizer<4,>=2 in c:\\users\\user\\appdata\\local\\programs\\python\\python310\\lib\\site-packages (from requests<3,>=2.21.0->tensorboard<2.13,>=2.12->tensorflow-intel==2.12.0->tensorflow) (2.0.12)\n",
      "Requirement already satisfied: idna<4,>=2.5 in c:\\users\\user\\appdata\\local\\programs\\python\\python310\\lib\\site-packages (from requests<3,>=2.21.0->tensorboard<2.13,>=2.12->tensorflow-intel==2.12.0->tensorflow) (2.10)\n",
      "Requirement already satisfied: urllib3<1.27,>=1.21.1 in c:\\users\\user\\appdata\\local\\programs\\python\\python310\\lib\\site-packages (from requests<3,>=2.21.0->tensorboard<2.13,>=2.12->tensorflow-intel==2.12.0->tensorflow) (1.26.8)\n",
      "Requirement already satisfied: certifi>=2017.4.17 in c:\\users\\user\\appdata\\local\\programs\\python\\python310\\lib\\site-packages (from requests<3,>=2.21.0->tensorboard<2.13,>=2.12->tensorflow-intel==2.12.0->tensorflow) (2021.10.8)\n",
      "Requirement already satisfied: MarkupSafe>=2.1.1 in c:\\users\\user\\appdata\\local\\programs\\python\\python310\\lib\\site-packages (from werkzeug>=1.0.1->tensorboard<2.13,>=2.12->tensorflow-intel==2.12.0->tensorflow) (2.1.1)\n",
      "Requirement already satisfied: pyasn1<0.6.0,>=0.4.6 in c:\\users\\user\\appdata\\local\\programs\\python\\python310\\lib\\site-packages (from pyasn1-modules>=0.2.1->google-auth<3,>=1.6.3->tensorboard<2.13,>=2.12->tensorflow-intel==2.12.0->tensorflow) (0.5.0)\n",
      "Requirement already satisfied: oauthlib>=3.0.0 in c:\\users\\user\\appdata\\local\\programs\\python\\python310\\lib\\site-packages (from requests-oauthlib>=0.7.0->google-auth-oauthlib<1.1,>=0.5->tensorboard<2.13,>=2.12->tensorflow-intel==2.12.0->tensorflow) (3.2.2)\n",
      "Installing collected packages: opt-einsum, ml-dtypes, markdown, keras, h5py, grpcio, google-pasta, gast, astunparse, absl-py, jax, google-auth-oauthlib, tensorboard, tensorflow-intel, tensorflow\n",
      "Successfully installed absl-py-1.4.0 astunparse-1.6.3 gast-0.4.0 google-auth-oauthlib-1.0.0 google-pasta-0.2.0 grpcio-1.54.2 h5py-3.8.0 jax-0.4.12 keras-2.12.0 markdown-3.4.3 ml-dtypes-0.2.0 opt-einsum-3.3.0 tensorboard-2.12.3 tensorflow-2.12.0 tensorflow-intel-2.12.0\n"
     ]
    }
   ],
   "source": [
    "%pip install tensorflow"
   ],
   "metadata": {
    "collapsed": false
   }
  },
  {
   "cell_type": "code",
   "execution_count": 4,
   "metadata": {
    "collapsed": true
   },
   "outputs": [],
   "source": [
    "import pandas as pd\n",
    "import numpy as np\n",
    "import tensorflow as tf\n",
    "from tensorflow.keras.models import Sequential\n",
    "from tensorflow.keras.layers import Dense\n",
    "from sklearn.model_selection import train_test_split\n",
    "from sklearn.preprocessing import StandardScaler"
   ]
  },
  {
   "cell_type": "code",
   "execution_count": 10,
   "outputs": [],
   "source": [
    "df_98 = pd.read_csv('NBA_data/nba_games_1998.csv', index_col=0)\n",
    "df_99_22 = pd.read_csv('NBA_data//nba_games_1999_2022.csv', index_col=0)\n",
    "df_23 = pd.read_csv('NBA_data//nba_games_2023.csv', index_col=0)\n",
    "df = pd.concat([df_98, df_99_22, df_23])"
   ],
   "metadata": {
    "collapsed": false
   }
  },
  {
   "cell_type": "code",
   "execution_count": 11,
   "outputs": [],
   "source": [
    "df = df.sort_values('date')\n",
    "df = df.reset_index(drop=True)\n",
    "del df['index_opp']"
   ],
   "metadata": {
    "collapsed": false
   }
  },
  {
   "cell_type": "code",
   "execution_count": 12,
   "outputs": [],
   "source": [
    "def add_target(team):\n",
    "    team['target'] = team['won'].shift(-1)\n",
    "    return team"
   ],
   "metadata": {
    "collapsed": false
   }
  },
  {
   "cell_type": "code",
   "execution_count": 14,
   "outputs": [],
   "source": [
    "df = df.groupby('team', group_keys=False).apply(add_target)"
   ],
   "metadata": {
    "collapsed": false
   }
  },
  {
   "cell_type": "code",
   "execution_count": 16,
   "outputs": [
    {
     "name": "stderr",
     "output_type": "stream",
     "text": [
      "C:\\Users\\USER\\AppData\\Local\\Temp\\ipykernel_18880\\1965879857.py:1: SettingWithCopyWarning: \n",
      "A value is trying to be set on a copy of a slice from a DataFrame\n",
      "\n",
      "See the caveats in the documentation: https://pandas.pydata.org/pandas-docs/stable/user_guide/indexing.html#returning-a-view-versus-a-copy\n",
      "  df['target'][pd.isnull(df['target'])] = 2\n"
     ]
    }
   ],
   "source": [
    "df['target'][pd.isnull(df['target'])] = 2\n",
    "df['target'] = df['target'].astype(int, errors='ignore')"
   ],
   "metadata": {
    "collapsed": false
   }
  },
  {
   "cell_type": "code",
   "execution_count": 17,
   "outputs": [
    {
     "data": {
      "text/plain": "False    27741\nTrue     27741\nName: won, dtype: int64"
     },
     "execution_count": 17,
     "metadata": {},
     "output_type": "execute_result"
    }
   ],
   "source": [
    "df['won'].value_counts()"
   ],
   "metadata": {
    "collapsed": false
   }
  },
  {
   "cell_type": "code",
   "execution_count": 18,
   "outputs": [
    {
     "data": {
      "text/plain": "1    27723\n0    27722\n2       37\nName: target, dtype: int64"
     },
     "execution_count": 18,
     "metadata": {},
     "output_type": "execute_result"
    }
   ],
   "source": [
    "df['target'].value_counts()"
   ],
   "metadata": {
    "collapsed": false
   }
  },
  {
   "cell_type": "code",
   "execution_count": 20,
   "outputs": [
    {
     "data": {
      "text/plain": "Series([], dtype: int64)"
     },
     "execution_count": 20,
     "metadata": {},
     "output_type": "execute_result"
    }
   ],
   "source": [
    "nulls = pd.isnull(df)\n",
    "nulls = nulls.sum()\n",
    "nulls = nulls[nulls > 0]\n",
    "nulls"
   ],
   "metadata": {
    "collapsed": false
   }
  },
  {
   "cell_type": "code",
   "execution_count": 26,
   "outputs": [
    {
     "data": {
      "text/plain": "       fta   efg%   usg%  trb%   drtg  ast%  3pa  orb%    ft%  stl%  ...  \\\n0       29  0.424  100.0  44.1   98.7  48.5    8  34.8  0.621  12.9  ...   \n1       20  0.416  100.0  54.3  103.4  69.4   13  47.1  0.700   8.0  ...   \n2       26  0.473  100.0  53.0   99.2  63.6   12  40.9  0.500  13.1  ...   \n3       26  0.481  100.0  47.0   90.5  58.3   13  33.3  0.577  17.4  ...   \n4       37  0.533  100.0  48.8  105.4  73.7    8  29.3  0.811  11.6  ...   \n...    ...    ...    ...   ...    ...   ...  ...   ...    ...   ...  ...   \n55477   22  0.593  100.0  55.1  127.8  59.0   28  28.1  0.864   8.1  ...   \n55478   27  0.544  100.0  63.7  103.8  68.3   18  36.1  0.815   3.3  ...   \n55479   19  0.429  100.0  36.3  120.4  58.8   35  18.2  0.789   7.7  ...   \n55480   21  0.582  100.0  47.9  107.2  66.7   28  14.7  0.762  12.4  ...   \n55481   20  0.500  100.0  52.1  121.9  65.7   25  21.6  0.850   2.3  ...   \n\n       ft_opp  3p_opp  tov_opp  team_opp  total_opp  home_opp  season  \\\n0          11       5       23       BOS         92         1    1998   \n1          25       1       16       DAL         90         0    1998   \n2          15       4       18       SEA         91         0    1998   \n3          13       4       25       POR         83         1    1998   \n4          10      10       19       LAC        100         0    1998   \n...       ...     ...      ...       ...        ...       ...     ...   \n55477      18      17       11       MIA        111         0    2023   \n55478      15      11        4       MIA         94         1    2023   \n55479      22       5       13       DEN        109         0    2023   \n55480      17       8       14       MIA         95         1    2023   \n55481      16      14        6       DEN        108         0    2023   \n\n             date    won  target  \n0      1997-10-31  False       1  \n1      1997-10-31  False       1  \n2      1997-10-31  False       1  \n3      1997-10-31   True       0  \n4      1997-10-31   True       1  \n...           ...    ...     ...  \n55477  2023-06-04  False       1  \n55478  2023-06-07   True       1  \n55479  2023-06-07  False       0  \n55480  2023-06-09   True       2  \n55481  2023-06-09  False       2  \n\n[55482 rows x 78 columns]",
      "text/html": "<div>\n<style scoped>\n    .dataframe tbody tr th:only-of-type {\n        vertical-align: middle;\n    }\n\n    .dataframe tbody tr th {\n        vertical-align: top;\n    }\n\n    .dataframe thead th {\n        text-align: right;\n    }\n</style>\n<table border=\"1\" class=\"dataframe\">\n  <thead>\n    <tr style=\"text-align: right;\">\n      <th></th>\n      <th>fta</th>\n      <th>efg%</th>\n      <th>usg%</th>\n      <th>trb%</th>\n      <th>drtg</th>\n      <th>ast%</th>\n      <th>3pa</th>\n      <th>orb%</th>\n      <th>ft%</th>\n      <th>stl%</th>\n      <th>...</th>\n      <th>ft_opp</th>\n      <th>3p_opp</th>\n      <th>tov_opp</th>\n      <th>team_opp</th>\n      <th>total_opp</th>\n      <th>home_opp</th>\n      <th>season</th>\n      <th>date</th>\n      <th>won</th>\n      <th>target</th>\n    </tr>\n  </thead>\n  <tbody>\n    <tr>\n      <th>0</th>\n      <td>29</td>\n      <td>0.424</td>\n      <td>100.0</td>\n      <td>44.1</td>\n      <td>98.7</td>\n      <td>48.5</td>\n      <td>8</td>\n      <td>34.8</td>\n      <td>0.621</td>\n      <td>12.9</td>\n      <td>...</td>\n      <td>11</td>\n      <td>5</td>\n      <td>23</td>\n      <td>BOS</td>\n      <td>92</td>\n      <td>1</td>\n      <td>1998</td>\n      <td>1997-10-31</td>\n      <td>False</td>\n      <td>1</td>\n    </tr>\n    <tr>\n      <th>1</th>\n      <td>20</td>\n      <td>0.416</td>\n      <td>100.0</td>\n      <td>54.3</td>\n      <td>103.4</td>\n      <td>69.4</td>\n      <td>13</td>\n      <td>47.1</td>\n      <td>0.700</td>\n      <td>8.0</td>\n      <td>...</td>\n      <td>25</td>\n      <td>1</td>\n      <td>16</td>\n      <td>DAL</td>\n      <td>90</td>\n      <td>0</td>\n      <td>1998</td>\n      <td>1997-10-31</td>\n      <td>False</td>\n      <td>1</td>\n    </tr>\n    <tr>\n      <th>2</th>\n      <td>26</td>\n      <td>0.473</td>\n      <td>100.0</td>\n      <td>53.0</td>\n      <td>99.2</td>\n      <td>63.6</td>\n      <td>12</td>\n      <td>40.9</td>\n      <td>0.500</td>\n      <td>13.1</td>\n      <td>...</td>\n      <td>15</td>\n      <td>4</td>\n      <td>18</td>\n      <td>SEA</td>\n      <td>91</td>\n      <td>0</td>\n      <td>1998</td>\n      <td>1997-10-31</td>\n      <td>False</td>\n      <td>1</td>\n    </tr>\n    <tr>\n      <th>3</th>\n      <td>26</td>\n      <td>0.481</td>\n      <td>100.0</td>\n      <td>47.0</td>\n      <td>90.5</td>\n      <td>58.3</td>\n      <td>13</td>\n      <td>33.3</td>\n      <td>0.577</td>\n      <td>17.4</td>\n      <td>...</td>\n      <td>13</td>\n      <td>4</td>\n      <td>25</td>\n      <td>POR</td>\n      <td>83</td>\n      <td>1</td>\n      <td>1998</td>\n      <td>1997-10-31</td>\n      <td>True</td>\n      <td>0</td>\n    </tr>\n    <tr>\n      <th>4</th>\n      <td>37</td>\n      <td>0.533</td>\n      <td>100.0</td>\n      <td>48.8</td>\n      <td>105.4</td>\n      <td>73.7</td>\n      <td>8</td>\n      <td>29.3</td>\n      <td>0.811</td>\n      <td>11.6</td>\n      <td>...</td>\n      <td>10</td>\n      <td>10</td>\n      <td>19</td>\n      <td>LAC</td>\n      <td>100</td>\n      <td>0</td>\n      <td>1998</td>\n      <td>1997-10-31</td>\n      <td>True</td>\n      <td>1</td>\n    </tr>\n    <tr>\n      <th>...</th>\n      <td>...</td>\n      <td>...</td>\n      <td>...</td>\n      <td>...</td>\n      <td>...</td>\n      <td>...</td>\n      <td>...</td>\n      <td>...</td>\n      <td>...</td>\n      <td>...</td>\n      <td>...</td>\n      <td>...</td>\n      <td>...</td>\n      <td>...</td>\n      <td>...</td>\n      <td>...</td>\n      <td>...</td>\n      <td>...</td>\n      <td>...</td>\n      <td>...</td>\n      <td>...</td>\n    </tr>\n    <tr>\n      <th>55477</th>\n      <td>22</td>\n      <td>0.593</td>\n      <td>100.0</td>\n      <td>55.1</td>\n      <td>127.8</td>\n      <td>59.0</td>\n      <td>28</td>\n      <td>28.1</td>\n      <td>0.864</td>\n      <td>8.1</td>\n      <td>...</td>\n      <td>18</td>\n      <td>17</td>\n      <td>11</td>\n      <td>MIA</td>\n      <td>111</td>\n      <td>0</td>\n      <td>2023</td>\n      <td>2023-06-04</td>\n      <td>False</td>\n      <td>1</td>\n    </tr>\n    <tr>\n      <th>55478</th>\n      <td>27</td>\n      <td>0.544</td>\n      <td>100.0</td>\n      <td>63.7</td>\n      <td>103.8</td>\n      <td>68.3</td>\n      <td>18</td>\n      <td>36.1</td>\n      <td>0.815</td>\n      <td>3.3</td>\n      <td>...</td>\n      <td>15</td>\n      <td>11</td>\n      <td>4</td>\n      <td>MIA</td>\n      <td>94</td>\n      <td>1</td>\n      <td>2023</td>\n      <td>2023-06-07</td>\n      <td>True</td>\n      <td>1</td>\n    </tr>\n    <tr>\n      <th>55479</th>\n      <td>19</td>\n      <td>0.429</td>\n      <td>100.0</td>\n      <td>36.3</td>\n      <td>120.4</td>\n      <td>58.8</td>\n      <td>35</td>\n      <td>18.2</td>\n      <td>0.789</td>\n      <td>7.7</td>\n      <td>...</td>\n      <td>22</td>\n      <td>5</td>\n      <td>13</td>\n      <td>DEN</td>\n      <td>109</td>\n      <td>0</td>\n      <td>2023</td>\n      <td>2023-06-07</td>\n      <td>False</td>\n      <td>0</td>\n    </tr>\n    <tr>\n      <th>55480</th>\n      <td>21</td>\n      <td>0.582</td>\n      <td>100.0</td>\n      <td>47.9</td>\n      <td>107.2</td>\n      <td>66.7</td>\n      <td>28</td>\n      <td>14.7</td>\n      <td>0.762</td>\n      <td>12.4</td>\n      <td>...</td>\n      <td>17</td>\n      <td>8</td>\n      <td>14</td>\n      <td>MIA</td>\n      <td>95</td>\n      <td>1</td>\n      <td>2023</td>\n      <td>2023-06-09</td>\n      <td>True</td>\n      <td>2</td>\n    </tr>\n    <tr>\n      <th>55481</th>\n      <td>20</td>\n      <td>0.500</td>\n      <td>100.0</td>\n      <td>52.1</td>\n      <td>121.9</td>\n      <td>65.7</td>\n      <td>25</td>\n      <td>21.6</td>\n      <td>0.850</td>\n      <td>2.3</td>\n      <td>...</td>\n      <td>16</td>\n      <td>14</td>\n      <td>6</td>\n      <td>DEN</td>\n      <td>108</td>\n      <td>0</td>\n      <td>2023</td>\n      <td>2023-06-09</td>\n      <td>False</td>\n      <td>2</td>\n    </tr>\n  </tbody>\n</table>\n<p>55482 rows × 78 columns</p>\n</div>"
     },
     "execution_count": 26,
     "metadata": {},
     "output_type": "execute_result"
    }
   ],
   "source": [
    "df.dropna()"
   ],
   "metadata": {
    "collapsed": false
   }
  },
  {
   "cell_type": "code",
   "execution_count": 31,
   "outputs": [],
   "source": [
    "removed_columns = ['season', 'date', 'won', 'target', 'team', 'team_opp']"
   ],
   "metadata": {
    "collapsed": false
   }
  },
  {
   "cell_type": "code",
   "execution_count": 32,
   "outputs": [],
   "source": [
    "selected_columns = df.columns[~df.columns.isin(removed_columns)]"
   ],
   "metadata": {
    "collapsed": false
   }
  },
  {
   "cell_type": "code",
   "execution_count": 54,
   "outputs": [],
   "source": [
    "teams = list(df.team.unique())"
   ],
   "metadata": {
    "collapsed": false
   }
  },
  {
   "cell_type": "code",
   "execution_count": 57,
   "outputs": [
    {
     "data": {
      "text/plain": "      fta   efg%   usg%  trb%   drtg  ast%  3pa  orb%    ft%  stl%  ...  \\\n0      29  0.424  100.0  44.1   98.7  48.5    8  34.8  0.621  12.9  ...   \n1      22  0.500  100.0  51.1   78.9  72.5    4  36.4  0.591  16.0  ...   \n2      24  0.333  100.0  51.7   81.5  63.6   17  37.1  0.625  11.8  ...   \n3      25  0.487  100.0  54.2   95.8  71.1    7  38.1  0.680   3.5  ...   \n4      16  0.413  100.0  43.4   91.5  59.4    8  15.4  0.750   9.1  ...   \n...   ...    ...    ...   ...    ...   ...  ...   ...    ...   ...  ...   \n1843   11  0.500  100.0  41.8  111.0  77.8   33  11.1  0.818  10.6  ...   \n1844   18  0.585  100.0  53.8  112.9  52.2   31  18.2  0.667   6.0  ...   \n1845   22  0.453  100.0  44.9   84.1  52.5   30  20.0  0.773  15.6  ...   \n1846   22  0.529  100.0  41.9  109.3  47.6   26  19.0  0.818   9.4  ...   \n1847   15  0.488  100.0  42.0  109.8  66.7   28  10.9  0.733   5.4  ...   \n\n      ft_opp  3p_opp  tov_opp  team_opp  total_opp  home_opp  season  \\\n0         11       5       23       BOS         92         1    1998   \n1         15       1       25       PHI         74         0    1998   \n2         15       0       23       SAS         83         0    1998   \n3         30       1       11       ORL         81         0    1998   \n4         19       3       14       ATL         80         1    1998   \n...      ...     ...      ...       ...        ...       ...     ...   \n1843       9      18       12       MIL        105         1    2023   \n1844      10      18        9       DAL        112         1    2023   \n1845      10       9       24       DET         81         0    2023   \n1846      18      11       14       TOR        105         1    2023   \n1847      28      10       13       MIA        102         1    2023   \n\n            date    won  target  \n0     1997-10-31  False       1  \n1     1997-11-01   True       1  \n2     1997-11-03   True       1  \n3     1997-11-05   True       0  \n4     1997-11-07  False       1  \n...          ...    ...     ...  \n1843  2023-04-05  False       1  \n1844  2023-04-07   True       1  \n1845  2023-04-09   True       1  \n1846  2023-04-12   True       0  \n1847  2023-04-14  False       2  \n\n[1848 rows x 78 columns]",
      "text/html": "<div>\n<style scoped>\n    .dataframe tbody tr th:only-of-type {\n        vertical-align: middle;\n    }\n\n    .dataframe tbody tr th {\n        vertical-align: top;\n    }\n\n    .dataframe thead th {\n        text-align: right;\n    }\n</style>\n<table border=\"1\" class=\"dataframe\">\n  <thead>\n    <tr style=\"text-align: right;\">\n      <th></th>\n      <th>fta</th>\n      <th>efg%</th>\n      <th>usg%</th>\n      <th>trb%</th>\n      <th>drtg</th>\n      <th>ast%</th>\n      <th>3pa</th>\n      <th>orb%</th>\n      <th>ft%</th>\n      <th>stl%</th>\n      <th>...</th>\n      <th>ft_opp</th>\n      <th>3p_opp</th>\n      <th>tov_opp</th>\n      <th>team_opp</th>\n      <th>total_opp</th>\n      <th>home_opp</th>\n      <th>season</th>\n      <th>date</th>\n      <th>won</th>\n      <th>target</th>\n    </tr>\n  </thead>\n  <tbody>\n    <tr>\n      <th>0</th>\n      <td>29</td>\n      <td>0.424</td>\n      <td>100.0</td>\n      <td>44.1</td>\n      <td>98.7</td>\n      <td>48.5</td>\n      <td>8</td>\n      <td>34.8</td>\n      <td>0.621</td>\n      <td>12.9</td>\n      <td>...</td>\n      <td>11</td>\n      <td>5</td>\n      <td>23</td>\n      <td>BOS</td>\n      <td>92</td>\n      <td>1</td>\n      <td>1998</td>\n      <td>1997-10-31</td>\n      <td>False</td>\n      <td>1</td>\n    </tr>\n    <tr>\n      <th>1</th>\n      <td>22</td>\n      <td>0.500</td>\n      <td>100.0</td>\n      <td>51.1</td>\n      <td>78.9</td>\n      <td>72.5</td>\n      <td>4</td>\n      <td>36.4</td>\n      <td>0.591</td>\n      <td>16.0</td>\n      <td>...</td>\n      <td>15</td>\n      <td>1</td>\n      <td>25</td>\n      <td>PHI</td>\n      <td>74</td>\n      <td>0</td>\n      <td>1998</td>\n      <td>1997-11-01</td>\n      <td>True</td>\n      <td>1</td>\n    </tr>\n    <tr>\n      <th>2</th>\n      <td>24</td>\n      <td>0.333</td>\n      <td>100.0</td>\n      <td>51.7</td>\n      <td>81.5</td>\n      <td>63.6</td>\n      <td>17</td>\n      <td>37.1</td>\n      <td>0.625</td>\n      <td>11.8</td>\n      <td>...</td>\n      <td>15</td>\n      <td>0</td>\n      <td>23</td>\n      <td>SAS</td>\n      <td>83</td>\n      <td>0</td>\n      <td>1998</td>\n      <td>1997-11-03</td>\n      <td>True</td>\n      <td>1</td>\n    </tr>\n    <tr>\n      <th>3</th>\n      <td>25</td>\n      <td>0.487</td>\n      <td>100.0</td>\n      <td>54.2</td>\n      <td>95.8</td>\n      <td>71.1</td>\n      <td>7</td>\n      <td>38.1</td>\n      <td>0.680</td>\n      <td>3.5</td>\n      <td>...</td>\n      <td>30</td>\n      <td>1</td>\n      <td>11</td>\n      <td>ORL</td>\n      <td>81</td>\n      <td>0</td>\n      <td>1998</td>\n      <td>1997-11-05</td>\n      <td>True</td>\n      <td>0</td>\n    </tr>\n    <tr>\n      <th>4</th>\n      <td>16</td>\n      <td>0.413</td>\n      <td>100.0</td>\n      <td>43.4</td>\n      <td>91.5</td>\n      <td>59.4</td>\n      <td>8</td>\n      <td>15.4</td>\n      <td>0.750</td>\n      <td>9.1</td>\n      <td>...</td>\n      <td>19</td>\n      <td>3</td>\n      <td>14</td>\n      <td>ATL</td>\n      <td>80</td>\n      <td>1</td>\n      <td>1998</td>\n      <td>1997-11-07</td>\n      <td>False</td>\n      <td>1</td>\n    </tr>\n    <tr>\n      <th>...</th>\n      <td>...</td>\n      <td>...</td>\n      <td>...</td>\n      <td>...</td>\n      <td>...</td>\n      <td>...</td>\n      <td>...</td>\n      <td>...</td>\n      <td>...</td>\n      <td>...</td>\n      <td>...</td>\n      <td>...</td>\n      <td>...</td>\n      <td>...</td>\n      <td>...</td>\n      <td>...</td>\n      <td>...</td>\n      <td>...</td>\n      <td>...</td>\n      <td>...</td>\n      <td>...</td>\n    </tr>\n    <tr>\n      <th>1843</th>\n      <td>11</td>\n      <td>0.500</td>\n      <td>100.0</td>\n      <td>41.8</td>\n      <td>111.0</td>\n      <td>77.8</td>\n      <td>33</td>\n      <td>11.1</td>\n      <td>0.818</td>\n      <td>10.6</td>\n      <td>...</td>\n      <td>9</td>\n      <td>18</td>\n      <td>12</td>\n      <td>MIL</td>\n      <td>105</td>\n      <td>1</td>\n      <td>2023</td>\n      <td>2023-04-05</td>\n      <td>False</td>\n      <td>1</td>\n    </tr>\n    <tr>\n      <th>1844</th>\n      <td>18</td>\n      <td>0.585</td>\n      <td>100.0</td>\n      <td>53.8</td>\n      <td>112.9</td>\n      <td>52.2</td>\n      <td>31</td>\n      <td>18.2</td>\n      <td>0.667</td>\n      <td>6.0</td>\n      <td>...</td>\n      <td>10</td>\n      <td>18</td>\n      <td>9</td>\n      <td>DAL</td>\n      <td>112</td>\n      <td>1</td>\n      <td>2023</td>\n      <td>2023-04-07</td>\n      <td>True</td>\n      <td>1</td>\n    </tr>\n    <tr>\n      <th>1845</th>\n      <td>22</td>\n      <td>0.453</td>\n      <td>100.0</td>\n      <td>44.9</td>\n      <td>84.1</td>\n      <td>52.5</td>\n      <td>30</td>\n      <td>20.0</td>\n      <td>0.773</td>\n      <td>15.6</td>\n      <td>...</td>\n      <td>10</td>\n      <td>9</td>\n      <td>24</td>\n      <td>DET</td>\n      <td>81</td>\n      <td>0</td>\n      <td>2023</td>\n      <td>2023-04-09</td>\n      <td>True</td>\n      <td>1</td>\n    </tr>\n    <tr>\n      <th>1846</th>\n      <td>22</td>\n      <td>0.529</td>\n      <td>100.0</td>\n      <td>41.9</td>\n      <td>109.3</td>\n      <td>47.6</td>\n      <td>26</td>\n      <td>19.0</td>\n      <td>0.818</td>\n      <td>9.4</td>\n      <td>...</td>\n      <td>18</td>\n      <td>11</td>\n      <td>14</td>\n      <td>TOR</td>\n      <td>105</td>\n      <td>1</td>\n      <td>2023</td>\n      <td>2023-04-12</td>\n      <td>True</td>\n      <td>0</td>\n    </tr>\n    <tr>\n      <th>1847</th>\n      <td>15</td>\n      <td>0.488</td>\n      <td>100.0</td>\n      <td>42.0</td>\n      <td>109.8</td>\n      <td>66.7</td>\n      <td>28</td>\n      <td>10.9</td>\n      <td>0.733</td>\n      <td>5.4</td>\n      <td>...</td>\n      <td>28</td>\n      <td>10</td>\n      <td>13</td>\n      <td>MIA</td>\n      <td>102</td>\n      <td>1</td>\n      <td>2023</td>\n      <td>2023-04-14</td>\n      <td>False</td>\n      <td>2</td>\n    </tr>\n  </tbody>\n</table>\n<p>1848 rows × 78 columns</p>\n</div>"
     },
     "execution_count": 57,
     "metadata": {},
     "output_type": "execute_result"
    }
   ],
   "source": [
    "df_teams = []\n",
    "for team in teams:\n",
    "    df_team = df[df['team'] == team]\n",
    "    df_team = df_team.reset_index(drop=True)\n",
    "    df_teams.append(df_team)\n",
    "df_teams[0]"
   ],
   "metadata": {
    "collapsed": false
   }
  },
  {
   "cell_type": "code",
   "execution_count": 96,
   "outputs": [],
   "source": [
    "X = df_teams[1].drop(removed_columns, axis=1).values\n",
    "y = df_teams[1]['target'].values"
   ],
   "metadata": {
    "collapsed": false
   }
  },
  {
   "cell_type": "code",
   "execution_count": 97,
   "outputs": [],
   "source": [
    "X_train, X_test, y_train, y_test = train_test_split(X, y, test_size=0.2, random_state=1)"
   ],
   "metadata": {
    "collapsed": false
   }
  },
  {
   "cell_type": "code",
   "execution_count": 98,
   "outputs": [],
   "source": [
    "scaler = StandardScaler()\n",
    "X_train = scaler.fit_transform(X_train)\n",
    "X_test = scaler.transform(X_test)"
   ],
   "metadata": {
    "collapsed": false
   }
  },
  {
   "cell_type": "code",
   "execution_count": 99,
   "outputs": [],
   "source": [
    "model = Sequential()"
   ],
   "metadata": {
    "collapsed": false
   }
  },
  {
   "cell_type": "code",
   "execution_count": 100,
   "outputs": [],
   "source": [
    "model.add(Dense(64, activation='relu', input_shape=(72,)))\n",
    "model.add(Dense(64, activation='relu'))\n",
    "model.add(Dense(1, activation='sigmoid'))"
   ],
   "metadata": {
    "collapsed": false
   }
  },
  {
   "cell_type": "code",
   "execution_count": 101,
   "outputs": [],
   "source": [
    "model.compile(optimizer='adam', loss='binary_crossentropy', metrics=['accuracy'])"
   ],
   "metadata": {
    "collapsed": false
   }
  },
  {
   "cell_type": "code",
   "execution_count": 102,
   "outputs": [
    {
     "name": "stdout",
     "output_type": "stream",
     "text": [
      "1/1 [==============================] - 1s 1s/step - loss: 0.7665 - accuracy: 0.5556\n",
      "Pérdida:  0.766521155834198\n",
      "Precisión:  0.5555555820465088\n"
     ]
    }
   ],
   "source": [
    "loss, accuracy = model.evaluate(X_test, y_test)\n",
    "print(\"Pérdida: \", loss)\n",
    "print(\"Precisión: \", accuracy)"
   ],
   "metadata": {
    "collapsed": false
   }
  },
  {
   "cell_type": "code",
   "execution_count": 15,
   "outputs": [
    {
     "data": {
      "text/plain": "       fta   efg%   usg%  trb%   drtg  ast%  3pa  orb%    ft%  stl%  ...  \\\n0       29  0.424  100.0  44.1   98.7  48.5    8  34.8  0.621  12.9  ...   \n1       20  0.416  100.0  54.3  103.4  69.4   13  47.1  0.700   8.0  ...   \n2       26  0.473  100.0  53.0   99.2  63.6   12  40.9  0.500  13.1  ...   \n3       26  0.481  100.0  47.0   90.5  58.3   13  33.3  0.577  17.4  ...   \n4       37  0.533  100.0  48.8  105.4  73.7    8  29.3  0.811  11.6  ...   \n...    ...    ...    ...   ...    ...   ...  ...   ...    ...   ...  ...   \n55477   22  0.593  100.0  55.1  127.8  59.0   28  28.1  0.864   8.1  ...   \n55478   27  0.544  100.0  63.7  103.8  68.3   18  36.1  0.815   3.3  ...   \n55479   19  0.429  100.0  36.3  120.4  58.8   35  18.2  0.789   7.7  ...   \n55480   21  0.582  100.0  47.9  107.2  66.7   28  14.7  0.762  12.4  ...   \n55481   20  0.500  100.0  52.1  121.9  65.7   25  21.6  0.850   2.3  ...   \n\n       ft_opp  3p_opp  tov_opp  team_opp  total_opp  home_opp  season  \\\n0          11       5       23       BOS         92         1    1998   \n1          25       1       16       DAL         90         0    1998   \n2          15       4       18       SEA         91         0    1998   \n3          13       4       25       POR         83         1    1998   \n4          10      10       19       LAC        100         0    1998   \n...       ...     ...      ...       ...        ...       ...     ...   \n55477      18      17       11       MIA        111         0    2023   \n55478      15      11        4       MIA         94         1    2023   \n55479      22       5       13       DEN        109         0    2023   \n55480      17       8       14       MIA         95         1    2023   \n55481      16      14        6       DEN        108         0    2023   \n\n             date    won  target  \n0      1997-10-31  False    True  \n1      1997-10-31  False    True  \n2      1997-10-31  False    True  \n3      1997-10-31   True   False  \n4      1997-10-31   True    True  \n...           ...    ...     ...  \n55477  2023-06-04  False    True  \n55478  2023-06-07   True    True  \n55479  2023-06-07  False   False  \n55480  2023-06-09   True     NaN  \n55481  2023-06-09  False     NaN  \n\n[55482 rows x 78 columns]",
      "text/html": "<div>\n<style scoped>\n    .dataframe tbody tr th:only-of-type {\n        vertical-align: middle;\n    }\n\n    .dataframe tbody tr th {\n        vertical-align: top;\n    }\n\n    .dataframe thead th {\n        text-align: right;\n    }\n</style>\n<table border=\"1\" class=\"dataframe\">\n  <thead>\n    <tr style=\"text-align: right;\">\n      <th></th>\n      <th>fta</th>\n      <th>efg%</th>\n      <th>usg%</th>\n      <th>trb%</th>\n      <th>drtg</th>\n      <th>ast%</th>\n      <th>3pa</th>\n      <th>orb%</th>\n      <th>ft%</th>\n      <th>stl%</th>\n      <th>...</th>\n      <th>ft_opp</th>\n      <th>3p_opp</th>\n      <th>tov_opp</th>\n      <th>team_opp</th>\n      <th>total_opp</th>\n      <th>home_opp</th>\n      <th>season</th>\n      <th>date</th>\n      <th>won</th>\n      <th>target</th>\n    </tr>\n  </thead>\n  <tbody>\n    <tr>\n      <th>0</th>\n      <td>29</td>\n      <td>0.424</td>\n      <td>100.0</td>\n      <td>44.1</td>\n      <td>98.7</td>\n      <td>48.5</td>\n      <td>8</td>\n      <td>34.8</td>\n      <td>0.621</td>\n      <td>12.9</td>\n      <td>...</td>\n      <td>11</td>\n      <td>5</td>\n      <td>23</td>\n      <td>BOS</td>\n      <td>92</td>\n      <td>1</td>\n      <td>1998</td>\n      <td>1997-10-31</td>\n      <td>False</td>\n      <td>True</td>\n    </tr>\n    <tr>\n      <th>1</th>\n      <td>20</td>\n      <td>0.416</td>\n      <td>100.0</td>\n      <td>54.3</td>\n      <td>103.4</td>\n      <td>69.4</td>\n      <td>13</td>\n      <td>47.1</td>\n      <td>0.700</td>\n      <td>8.0</td>\n      <td>...</td>\n      <td>25</td>\n      <td>1</td>\n      <td>16</td>\n      <td>DAL</td>\n      <td>90</td>\n      <td>0</td>\n      <td>1998</td>\n      <td>1997-10-31</td>\n      <td>False</td>\n      <td>True</td>\n    </tr>\n    <tr>\n      <th>2</th>\n      <td>26</td>\n      <td>0.473</td>\n      <td>100.0</td>\n      <td>53.0</td>\n      <td>99.2</td>\n      <td>63.6</td>\n      <td>12</td>\n      <td>40.9</td>\n      <td>0.500</td>\n      <td>13.1</td>\n      <td>...</td>\n      <td>15</td>\n      <td>4</td>\n      <td>18</td>\n      <td>SEA</td>\n      <td>91</td>\n      <td>0</td>\n      <td>1998</td>\n      <td>1997-10-31</td>\n      <td>False</td>\n      <td>True</td>\n    </tr>\n    <tr>\n      <th>3</th>\n      <td>26</td>\n      <td>0.481</td>\n      <td>100.0</td>\n      <td>47.0</td>\n      <td>90.5</td>\n      <td>58.3</td>\n      <td>13</td>\n      <td>33.3</td>\n      <td>0.577</td>\n      <td>17.4</td>\n      <td>...</td>\n      <td>13</td>\n      <td>4</td>\n      <td>25</td>\n      <td>POR</td>\n      <td>83</td>\n      <td>1</td>\n      <td>1998</td>\n      <td>1997-10-31</td>\n      <td>True</td>\n      <td>False</td>\n    </tr>\n    <tr>\n      <th>4</th>\n      <td>37</td>\n      <td>0.533</td>\n      <td>100.0</td>\n      <td>48.8</td>\n      <td>105.4</td>\n      <td>73.7</td>\n      <td>8</td>\n      <td>29.3</td>\n      <td>0.811</td>\n      <td>11.6</td>\n      <td>...</td>\n      <td>10</td>\n      <td>10</td>\n      <td>19</td>\n      <td>LAC</td>\n      <td>100</td>\n      <td>0</td>\n      <td>1998</td>\n      <td>1997-10-31</td>\n      <td>True</td>\n      <td>True</td>\n    </tr>\n    <tr>\n      <th>...</th>\n      <td>...</td>\n      <td>...</td>\n      <td>...</td>\n      <td>...</td>\n      <td>...</td>\n      <td>...</td>\n      <td>...</td>\n      <td>...</td>\n      <td>...</td>\n      <td>...</td>\n      <td>...</td>\n      <td>...</td>\n      <td>...</td>\n      <td>...</td>\n      <td>...</td>\n      <td>...</td>\n      <td>...</td>\n      <td>...</td>\n      <td>...</td>\n      <td>...</td>\n      <td>...</td>\n    </tr>\n    <tr>\n      <th>55477</th>\n      <td>22</td>\n      <td>0.593</td>\n      <td>100.0</td>\n      <td>55.1</td>\n      <td>127.8</td>\n      <td>59.0</td>\n      <td>28</td>\n      <td>28.1</td>\n      <td>0.864</td>\n      <td>8.1</td>\n      <td>...</td>\n      <td>18</td>\n      <td>17</td>\n      <td>11</td>\n      <td>MIA</td>\n      <td>111</td>\n      <td>0</td>\n      <td>2023</td>\n      <td>2023-06-04</td>\n      <td>False</td>\n      <td>True</td>\n    </tr>\n    <tr>\n      <th>55478</th>\n      <td>27</td>\n      <td>0.544</td>\n      <td>100.0</td>\n      <td>63.7</td>\n      <td>103.8</td>\n      <td>68.3</td>\n      <td>18</td>\n      <td>36.1</td>\n      <td>0.815</td>\n      <td>3.3</td>\n      <td>...</td>\n      <td>15</td>\n      <td>11</td>\n      <td>4</td>\n      <td>MIA</td>\n      <td>94</td>\n      <td>1</td>\n      <td>2023</td>\n      <td>2023-06-07</td>\n      <td>True</td>\n      <td>True</td>\n    </tr>\n    <tr>\n      <th>55479</th>\n      <td>19</td>\n      <td>0.429</td>\n      <td>100.0</td>\n      <td>36.3</td>\n      <td>120.4</td>\n      <td>58.8</td>\n      <td>35</td>\n      <td>18.2</td>\n      <td>0.789</td>\n      <td>7.7</td>\n      <td>...</td>\n      <td>22</td>\n      <td>5</td>\n      <td>13</td>\n      <td>DEN</td>\n      <td>109</td>\n      <td>0</td>\n      <td>2023</td>\n      <td>2023-06-07</td>\n      <td>False</td>\n      <td>False</td>\n    </tr>\n    <tr>\n      <th>55480</th>\n      <td>21</td>\n      <td>0.582</td>\n      <td>100.0</td>\n      <td>47.9</td>\n      <td>107.2</td>\n      <td>66.7</td>\n      <td>28</td>\n      <td>14.7</td>\n      <td>0.762</td>\n      <td>12.4</td>\n      <td>...</td>\n      <td>17</td>\n      <td>8</td>\n      <td>14</td>\n      <td>MIA</td>\n      <td>95</td>\n      <td>1</td>\n      <td>2023</td>\n      <td>2023-06-09</td>\n      <td>True</td>\n      <td>NaN</td>\n    </tr>\n    <tr>\n      <th>55481</th>\n      <td>20</td>\n      <td>0.500</td>\n      <td>100.0</td>\n      <td>52.1</td>\n      <td>121.9</td>\n      <td>65.7</td>\n      <td>25</td>\n      <td>21.6</td>\n      <td>0.850</td>\n      <td>2.3</td>\n      <td>...</td>\n      <td>16</td>\n      <td>14</td>\n      <td>6</td>\n      <td>DEN</td>\n      <td>108</td>\n      <td>0</td>\n      <td>2023</td>\n      <td>2023-06-09</td>\n      <td>False</td>\n      <td>NaN</td>\n    </tr>\n  </tbody>\n</table>\n<p>55482 rows × 78 columns</p>\n</div>"
     },
     "execution_count": 15,
     "metadata": {},
     "output_type": "execute_result"
    }
   ],
   "source": [
    "df"
   ],
   "metadata": {
    "collapsed": false
   }
  }
 ],
 "metadata": {
  "kernelspec": {
   "display_name": "Python 3",
   "language": "python",
   "name": "python3"
  },
  "language_info": {
   "codemirror_mode": {
    "name": "ipython",
    "version": 2
   },
   "file_extension": ".py",
   "mimetype": "text/x-python",
   "name": "python",
   "nbconvert_exporter": "python",
   "pygments_lexer": "ipython2",
   "version": "2.7.6"
  }
 },
 "nbformat": 4,
 "nbformat_minor": 0
}
