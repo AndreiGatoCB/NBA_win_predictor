{
 "cells": [
  {
   "cell_type": "code",
   "execution_count": 2,
   "outputs": [],
   "source": [
    "import pandas as pd\n",
    "from bs4 import BeautifulSoup as bs\n",
    "import requests\n",
    "import time\n",
    "import re\n",
    "import numpy as np"
   ],
   "metadata": {
    "collapsed": false
   }
  },
  {
   "cell_type": "code",
   "execution_count": 3,
   "outputs": [],
   "source": [
    "def get_html(url, label, clase, id='all_schedule'):\n",
    "    page = requests.get(url)\n",
    "    soup = bs(page.content, 'html.parser')\n",
    "    title = soup.find('title').text\n",
    "    print(title)\n",
    "    if label == '':\n",
    "        html = soup.find_all(id=id)\n",
    "\n",
    "    else:\n",
    "        html = soup.find_all(label, class_=clase)\n",
    "\n",
    "    return str(html), title"
   ],
   "metadata": {
    "collapsed": false
   }
  },
  {
   "cell_type": "code",
   "execution_count": 4,
   "outputs": [],
   "source": [
    "def scrape_season(season):\n",
    "    url = f'https://www.basketball-reference.com/leagues/NBA_{season}_games.html'\n",
    "    months = get_html(url, 'div', 'filter')\n",
    "    soup = bs(months[0], 'lxml')\n",
    "    months_links = soup.find_all('a', href=True)\n",
    "    href = [i['href'] for i in months_links ]\n",
    "\n",
    "    standing_pages = [f'https://www.basketball-reference.com{l}' for l in href]\n",
    "\n",
    "    return standing_pages"
   ],
   "metadata": {
    "collapsed": false
   }
  },
  {
   "cell_type": "code",
   "execution_count": 5,
   "outputs": [],
   "source": [
    "def box_scores(stand_page: str):\n",
    "    response = requests.get(stand_page)\n",
    "    html = response.text\n",
    "    soup = bs(html)\n",
    "    links = soup.find_all('a')\n",
    "    hrefs = [l.get('href') for l in links]\n",
    "    box_scores = [l for l in hrefs]\n",
    "    box_scores = [f'https://www.basketball-reference.com{l}' for l in box_scores]\n",
    "    box_scores = list(filter(lambda url: 'boxscores/' in url and url.endswith('html'), box_scores))\n",
    "    return box_scores"
   ],
   "metadata": {
    "collapsed": false
   }
  },
  {
   "cell_type": "code",
   "execution_count": 6,
   "outputs": [],
   "source": [
    "def parse_html(box_score):\n",
    "    response = requests.get(box_score)\n",
    "    html = response.content\n",
    "    html_ = re.sub(r'<!--', '', html.decode())\n",
    "    soup = bs(html_, 'html.parser')\n",
    "    return soup"
   ],
   "metadata": {
    "collapsed": false
   }
  },
  {
   "cell_type": "code",
   "execution_count": 7,
   "outputs": [],
   "source": [
    "def read_line_score(soup):\n",
    "    table = pd.read_html(str(soup.select_one('#div_line_score')))\n",
    "    table_ = table[-1].rename(columns={'Unnamed: 0_level_1': 'team', 'T': 'total'})\n",
    "    table_.columns = table_.columns.droplevel(0)\n",
    "    line_score = table_[['team', 'total']]\n",
    "    return line_score"
   ],
   "metadata": {
    "collapsed": false
   }
  },
  {
   "cell_type": "code",
   "execution_count": 8,
   "outputs": [],
   "source": [
    "def read_stats(soup, team, stat) -> pd.DataFrame:\n",
    "    stats = pd.read_html(str(soup), attrs={'id': f'box-{team}-game-{stat}'}, index_col=0)[0]\n",
    "    stats.columns = stats.columns.droplevel(0)\n",
    "    stats = stats.drop(stats[stats['MP'] == 'MP'].index)\n",
    "    stats.replace(np.nan, 0, inplace=True)\n",
    "    return stats"
   ],
   "metadata": {
    "collapsed": false
   }
  },
  {
   "cell_type": "code",
   "execution_count": 9,
   "outputs": [],
   "source": [
    "def read_season_info(soup):\n",
    "    nav = soup.select('#bottom_nav_container')[0]\n",
    "    hrefs = [a['href'] for a in nav.find_all('a') if '.html' in a['href'] and 'teams' in a['href']]\n",
    "    season = re.search(r'\\d+', hrefs[0]).group()\n",
    "    return season"
   ],
   "metadata": {
    "collapsed": false
   }
  },
  {
   "cell_type": "code",
   "execution_count": 10,
   "outputs": [
    {
     "name": "stdout",
     "output_type": "stream",
     "text": [
      "range(1999, 2000)\n"
     ]
    }
   ],
   "source": [
    "print(range(1999, 2000))"
   ],
   "metadata": {
    "collapsed": false
   }
  },
  {
   "cell_type": "code",
   "execution_count": 11,
   "outputs": [
    {
     "name": "stdout",
     "output_type": "stream",
     "text": [
      "2022-23 NBA Schedule | Basketball-Reference.com\n"
     ]
    }
   ],
   "source": [
    "stand_pages = [page for season in range(2023, 2024) for page in scrape_season(season)]"
   ],
   "metadata": {
    "collapsed": false
   }
  },
  {
   "cell_type": "code",
   "execution_count": 22,
   "outputs": [
    {
     "name": "stdout",
     "output_type": "stream",
     "text": [
      "1997-98 NBA Schedule | Basketball-Reference.com\n"
     ]
    }
   ],
   "source": [
    "stand_pages = scrape_season(1998)"
   ],
   "metadata": {
    "collapsed": false
   }
  },
  {
   "cell_type": "code",
   "execution_count": 23,
   "outputs": [
    {
     "name": "stdout",
     "output_type": "stream",
     "text": [
      "https://www.basketball-reference.com/leagues/NBA_1998_games-october.html\n",
      "https://www.basketball-reference.com/leagues/NBA_1998_games-november.html\n",
      "https://www.basketball-reference.com/leagues/NBA_1998_games-december.html\n",
      "https://www.basketball-reference.com/leagues/NBA_1998_games-january.html\n",
      "https://www.basketball-reference.com/leagues/NBA_1998_games-february.html\n",
      "https://www.basketball-reference.com/leagues/NBA_1998_games-march.html\n",
      "https://www.basketball-reference.com/leagues/NBA_1998_games-april.html\n",
      "https://www.basketball-reference.com/leagues/NBA_1998_games-may.html\n",
      "https://www.basketball-reference.com/leagues/NBA_1998_games-june.html\n"
     ]
    },
    {
     "data": {
      "text/plain": "1260"
     },
     "execution_count": 23,
     "metadata": {},
     "output_type": "execute_result"
    }
   ],
   "source": [
    "box_scores_list = []\n",
    "for _ in stand_pages:\n",
    "    print(_)\n",
    "    box_scores_list.extend(box_scores(_))\n",
    "    time.sleep(3)\n",
    "len(box_scores_list)"
   ],
   "metadata": {
    "collapsed": false
   }
  },
  {
   "cell_type": "code",
   "execution_count": 24,
   "outputs": [
    {
     "name": "stdout",
     "output_type": "stream",
     "text": [
      "['CHI', 'BOS'] ['NYK', 'CHH'] ['SAS', 'DEN'] ['WAS', 'DET'] ['CLE', 'HOU'] ['UTA', 'LAL'] 00006/1260\n",
      "['TOR', 'MIA'] ['GSW', 'MIN'] ['IND', 'NJN'] ['ATL', 'ORL'] ['MIL', 'PHI'] ['LAC', 'PHO'] 00012/1260\n",
      "['SEA', 'POR'] ['DAL', 'VAN'] ['TOR', 'ATL'] ['PHI', 'CHI'] ['GSW', 'IND'] ['POR', 'LAC'] 00018/1260\n",
      "['NJN', 'MIL'] ['CHH', 'MIN'] ['CLE', 'SAS'] ['DAL', 'SEA'] ['DEN', 'UTA'] ['SAC', 'VAN'] 00024/1260\n",
      "['MIA', 'WAS'] ['ORL', 'BOS'] ['DET', 'NYK'] ['HOU', 'SAC'] ['SAS', 'CHI'] ['CHH', 'MIA'] 00030/1260\n",
      "['WAS', 'UTA'] ['DET', 'ATL'] ['IND', 'CLE'] ['VAN', 'DAL'] ['WAS', 'DEN'] ['ORL', 'MIL'] 00036/1260\n",
      "['BOS', 'NYK'] ['UTA', 'PHO'] ['MIN', 'POR'] ['LAL', 'SAC'] ['HOU', 'SEA'] ['GSW', 'TOR'] 00042/1260\n",
      "['MIA', 'BOS'] ['DAL', 'CHH'] ['ORL', 'CHI'] ['IND', 'DET'] ['HOU', 'LAC'] ['GSW', 'NJN'] 00048/1260\n",
      "['ATL', 'PHI'] ['VAN', 'SAS'] ['PHI', 'MIL'] ['NYK', 'PHO'] ['SEA', 'TOR'] ['CHI', 'ATL'] 00054/1260\n",
      "['CLE', 'BOS'] ['UTA', 'DEN'] ['ORL', 'DET'] ['POR', 'HOU'] ['SEA', 'IND'] ['NYK', 'LAL'] 00060/1260\n",
      "['MIA', 'NJN'] ['LAC', 'SAC'] ['MIN', 'VAN'] ['CHH', 'WAS'] ['IND', 'CHH'] ['NJN', 'CHI'] 00066/1260\n",
      "['ATL', 'CLE'] ['POR', 'DAL'] ['MIN', 'GSW'] ['PHO', 'LAC'] ['WAS', 'MIA'] ['BOS', 'MIL'] 00072/1260\n",
      "['TOR', 'ORL'] ['UTA', 'SAS'] ['GSW', 'LAL'] ['SEA', 'PHI'] ['NYK', 'SAC'] ['DET', 'VAN'] 00078/1260\n",
      "['DET', 'POR'] ['SAS', 'TOR'] ['SEA', 'ATL'] ['CHI', 'CLE'] ['LAL', 'DAL'] ['SAC', 'MIA'] 00084/1260\n",
      "['SAS', 'MIN'] ['DEN', 'NYK'] ['LAC', 'VAN'] ['DEN', 'BOS'] ['WAS', 'CHI'] ['DET', 'GSW'] 00090/1260\n",
      "['PHI', 'HOU'] ['ATL', 'IND'] ['SAC', 'ORL'] ['MIL', 'PHO'] ['NYK', 'TOR'] ['VAN', 'UTA'] 00096/1260\n",
      "['PHI', 'DAL'] ['MIL', 'LAC'] ['WAS', 'MIN'] ['CLE', 'NJN'] ['LAL', 'SAS'] ['DET', 'SEA'] 00102/1260\n",
      "['SAC', 'ATL'] ['TOR', 'BOS'] ['CHH', 'CHI'] ['LAL', 'HOU'] ['MIA', 'IND'] ['DEN', 'ORL'] 00108/1260\n",
      "['PHO', 'POR'] ['SEA', 'UTA'] ['LAC', 'CHH'] ['CLE', 'CHI'] ['UTA', 'DAL'] ['NJN', 'DET'] 00114/1260\n",
      "['POR', 'GSW'] ['DEN', 'MIA'] ['SAC', 'NYK'] ['BOS', 'PHI'] ['MIN', 'SAS'] ['IND', 'TOR'] 00120/1260\n",
      "['MIL', 'VAN'] ['ORL', 'WAS'] ['LAC', 'ATL'] ['NJN', 'CLE'] ['VAN', 'LAL'] ['HOU', 'PHO'] 00126/1260\n",
      "['MIL', 'SEA'] ['DAL', 'POR'] ['WAS', 'ATL'] ['VAN', 'DEN'] ['NYK', 'HOU'] ['DET', 'MIL'] 00132/1260\n",
      "['LAC', 'ORL'] ['MIN', 'PHO'] ['DAL', 'SAC'] ['BOS', 'TOR'] ['LAL', 'UTA'] ['POR', 'CHH'] 00138/1260\n",
      "['ORL', 'CLE'] ['MIN', 'LAL'] ['LAC', 'MIA'] ['BOS', 'NJN'] ['WAS', 'PHI'] ['GSW', 'SAS'] 00144/1260\n",
      "['VAN', 'SEA'] ['NYK', 'ATL'] ['GSW', 'DAL'] ['POR', 'DET'] ['TOR', 'HOU'] ['IND', 'MIL'] 00150/1260\n",
      "['CHI', 'PHO'] ['UTA', 'SAC'] ['NJN', 'BOS'] ['MIA', 'CHH'] ['CHI', 'LAC'] ['CLE', 'MIN'] 00156/1260\n",
      "['SAS', 'SEA'] ['DEN', 'VAN'] ['NYK', 'WAS'] ['WAS', 'CLE'] ['MIL', 'DAL'] ['SEA', 'DEN'] 00162/1260\n",
      "['ATL', 'DET'] ['GSW', 'HOU'] ['CHH', 'IND'] ['TOR', 'MIA'] ['POR', 'NJN'] ['ORL', 'PHI'] 00168/1260\n",
      "['SAS', 'UTA'] ['DET', 'BOS'] ['LAC', 'LAL'] ['VAN', 'NYK'] ['CHI', 'SAC'] ['WAS', 'ORL'] 00174/1260\n",
      "['POR', 'TOR'] ['MIN', 'UTA'] ['DET', 'CHH'] ['SAS', 'DAL'] ['NJN', 'GSW'] ['LAL', 'MIA'] 00180/1260\n",
      "['DEN', 'SAC'] ['CHI', 'SEA'] ['LAL', 'BOS'] ['SAC', 'LAC'] ['VAN', 'MIL'] ['POR', 'MIN'] 00186/1260\n",
      "['MIA', 'ORL'] ['CLE', 'PHI'] ['NJN', 'PHO'] ['WAS', 'SAS'] ['ATL', 'TOR'] ['VAN', 'IND'] 00192/1260\n",
      "['PHO', 'BOS'] ['CLE', 'CHH'] ['TOR', 'DAL'] ['MIN', 'DEN'] ['NYK', 'DET'] ['CHI', 'IND'] 00198/1260\n",
      "['NJN', 'LAC'] ['MIL', 'ORL'] ['LAL', 'PHI'] ['HOU', 'POR'] ['SAC', 'SEA'] ['GSW', 'UTA'] 00204/1260\n",
      "['CHH', 'ATL'] ['BOS', 'CLE'] ['HOU', 'GSW'] ['UTA', 'LAC'] ['MIL', 'MIA'] ['VAN', 'MIN'] 00210/1260\n",
      "['PHO', 'NYK'] ['DAL', 'SAS'] ['CHI', 'WAS'] ['SAS', 'ATL'] ['VAN', 'DET'] ['PHI', 'IND'] 00216/1260\n",
      "['TOR', 'LAL'] ['NJN', 'SAC'] ['ORL', 'SEA'] ['NJN', 'UTA'] ['SAC', 'CHH'] ['ATL', 'DAL'] 00222/1260\n",
      "['DEN', 'HOU'] ['PHO', 'MIL'] ['ORL', 'POR'] ['NYK', 'SAS'] ['SEA', 'WAS'] ['CHI', 'BOS'] 00228/1260\n",
      "['LAL', 'DEN'] ['PHO', 'DET'] ['CLE', 'GSW'] ['PHI', 'MIA'] ['IND', 'MIN'] ['SEA', 'NJN'] 00234/1260\n",
      "['TOR', 'UTA'] ['ORL', 'VAN'] ['NYK', 'DAL'] ['ATL', 'HOU'] ['SAS', 'LAC'] ['CHH', 'MIL'] 00240/1260\n",
      "['SAC', 'WAS'] ['MIL', 'CHI'] ['IND', 'DEN'] ['SEA', 'DET'] ['ORL', 'GSW'] ['SAS', 'LAL'] 00246/1260\n",
      "['BOS', 'MIA'] ['SAC', 'MIN'] ['PHI', 'NJN'] ['TOR', 'PHO'] ['UTA', 'POR'] ['CLE', 'VAN'] 00252/1260\n",
      "['HOU', 'DAL'] ['ORL', 'LAC'] ['CHH', 'NYK'] ['MIN', 'WAS'] ['LAC', 'DEN'] ['CLE', 'LAL'] 00258/1260\n",
      "['SEA', 'MIL'] ['NYK', 'PHI'] ['IND', 'PHO'] ['GSW', 'SAC'] ['DET', 'TOR'] ['NJN', 'MIA'] 00264/1260\n",
      "['PHI', 'ORL'] ['LAL', 'POR'] ['IND', 'UTA'] ['MIA', 'ATL'] ['NYK', 'CHI'] ['LAC', 'DAL'] 00270/1260\n",
      "['DEN', 'DET'] ['SAS', 'HOU'] ['SEA', 'MIN'] ['VAN', 'PHO'] ['UTA', 'SAC'] ['CHH', 'TOR'] 00276/1260\n",
      "['NJN', 'WAS'] ['MIL', 'BOS'] ['WAS', 'CHH'] ['DEN', 'CLE'] ['LAL', 'GSW'] ['CHI', 'ORL'] 00282/1260\n",
      "['TOR', 'PHI'] ['IND', 'POR'] ['LAC', 'SAS'] ['ORL', 'DAL'] ['NJN', 'DET'] ['CLE', 'MIL'] 00288/1260\n",
      "['MIN', 'NYK'] ['ATL', 'PHO'] ['WAS', 'BOS'] ['CHI', 'CHH'] ['MIA', 'IND'] ['ATL', 'LAC'] 00294/1260\n",
      "['HOU', 'LAL'] ['DEN', 'PHI'] ['POR', 'SEA'] ['DAL', 'UTA'] ['GSW', 'VAN'] ['TOR', 'CHI'] 00300/1260\n",
      "['CHH', 'CLE'] ['BOS', 'DET'] ['SAC', 'GSW'] ['WAS', 'IND'] ['MIA', 'MIL'] ['PHO', 'MIN'] 00306/1260\n",
      "['DEN', 'NJN'] ['PHI', 'NYK'] ['ORL', 'SAS'] ['DAL', 'LAL'] ['ATL', 'SAC'] ['LAC', 'SEA'] 00312/1260\n",
      "['HOU', 'VAN'] ['PHI', 'BOS'] ['PHO', 'CHI'] ['ATL', 'POR'] ['IND', 'TOR'] ['UTA', 'WAS'] 00318/1260\n",
      "['PHO', 'CLE'] ['SAS', 'DEN'] ['DAL', 'GSW'] ['VAN', 'HOU'] ['SEA', 'LAC'] ['UTA', 'MIA'] 00324/1260\n",
      "['LAL', 'MIN'] ['DET', 'NYK'] ['POR', 'SAC'] ['CLE', 'ATL'] ['MIL', 'CHH'] ['LAL', 'CHI'] 00330/1260\n",
      "['NYK', 'IND'] ['DET', 'NJN'] ['MIN', 'PHI'] ['VAN', 'SAS'] ['BOS', 'TOR'] ['MIA', 'WAS'] 00336/1260\n",
      "['PHO', 'DAL'] ['GSW', 'LAC'] ['UTA', 'ORL'] ['DEN', 'SEA'] ['LAL', 'ATL'] ['NYK', 'CLE'] 00342/1260\n",
      "['SAC', 'HOU'] ['DET', 'IND'] ['MIA', 'PHI'] ['VAN', 'POR'] ['MIL', 'TOR'] ['CHH', 'WAS'] 00348/1260\n",
      "['LAL', 'CHH'] ['SAC', 'DAL'] ['PHO', 'DEN'] ['PHI', 'DET'] ['ATL', 'MIA'] ['NYK', 'MIL'] 00354/1260\n",
      "['LAC', 'MIN'] ['CHI', 'NJN'] ['IND', 'ORL'] ['HOU', 'SAS'] ['GSW', 'SEA'] ['WAS', 'TOR'] 00360/1260\n",
      "['LAC', 'BOS'] ['UTA', 'CLE'] ['POR', 'VAN'] ['UTA', 'ATL'] ['TOR', 'CHH'] ['LAL', 'HOU'] 00366/1260\n",
      "['WAS', 'MIL'] ['DAL', 'NYK'] ['NJN', 'ORL'] ['DET', 'PHI'] ['GSW', 'PHO'] ['MIN', 'SAC'] 00372/1260\n",
      "['CHH', 'BOS'] ['LAC', 'CHI'] ['DAL', 'CLE'] ['DEN', 'GSW'] ['SAC', 'POR'] ['IND', 'SAS'] 00378/1260\n",
      "['MIN', 'SEA'] ['MIA', 'CHI'] ['HOU', 'UTA'] ['CLE', 'CHH'] ['WAS', 'DAL'] ['GSW', 'DEN'] 00384/1260\n",
      "['MIA', 'DET'] ['ORL', 'IND'] ['LAC', 'LAL'] ['ATL', 'MIL'] ['NJN', 'MIN'] ['SEA', 'SAC'] 00390/1260\n",
      "['BOS', 'SAS'] ['PHO', 'VAN'] ['ATL', 'CHI'] ['PHI', 'GSW'] ['WAS', 'HOU'] ['DEN', 'LAC'] 00396/1260\n",
      "['MIL', 'NJN'] ['TOR', 'NYK'] ['CHH', 'ORL'] ['POR', 'UTA'] ['MIN', 'DET'] ['BOS', 'LAL'] 00402/1260\n",
      "['IND', 'MIA'] ['SEA', 'PHO'] ['SAS', 'POR'] ['PHI', 'SAC'] ['UTA', 'VAN'] ['DAL', 'CHI'] 00408/1260\n",
      "['CHH', 'HOU'] ['WAS', 'NJN'] ['MIA', 'CLE'] ['UTA', 'DEN'] ['TOR', 'DET'] ['SEA', 'GSW'] 00414/1260\n",
      "['NJN', 'IND'] ['SAC', 'LAL'] ['DAL', 'MIL'] ['CHI', 'MIN'] ['NYK', 'ORL'] ['BOS', 'PHO'] 00420/1260\n",
      "['PHI', 'POR'] ['SAS', 'VAN'] ['TOR', 'WAS'] ['PHI', 'VAN'] ['MIN', 'BOS'] ['MIA', 'CHH'] 00426/1260\n",
      "['MIL', 'CHI'] ['HOU', 'DEN'] ['LAC', 'GSW'] ['ATL', 'LAL'] ['NYK', 'NJN'] ['CLE', 'ORL'] 00432/1260\n",
      "['DAL', 'PHO'] ['VAN', 'SAC'] ['POR', 'SAS'] ['PHI', 'SEA'] ['DET', 'TOR'] ['IND', 'WAS'] 00438/1260\n",
      "['NJN', 'CLE'] ['CHI', 'DET'] ['POR', 'HOU'] ['TOR', 'IND'] ['DAL', 'LAC'] ['SAS', 'MIA'] 00444/1260\n",
      "['BOS', 'MIL'] ['DEN', 'MIN'] ['ORL', 'NYK'] ['ATL', 'UTA'] ['PHI', 'LAL'] ['CHH', 'SAC'] 00450/1260\n",
      "['SEA', 'VAN'] ['PHO', 'WAS'] ['WAS', 'NYK'] ['SAS', 'ORL'] ['MIL', 'POR'] ['HOU', 'TOR'] 00456/1260\n",
      "['BOS', 'CHI'] ['HOU', 'CLE'] ['DEN', 'DAL'] ['PHO', 'IND'] ['LAC', 'SAC'] ['CHH', 'SEA'] 00462/1260\n",
      "['PHI', 'UTA'] ['LAL', 'VAN'] ['ATL', 'GSW'] ['VAN', 'LAC'] ['MIL', 'LAL'] ['CHI', 'MIA'] 00468/1260\n",
      "['PHO', 'MIN'] ['NJN', 'NYK'] ['CHH', 'POR'] ['DEN', 'SAS'] ['ORL', 'TOR'] ['BOS', 'WAS'] 00474/1260\n",
      "['SEA', 'CLE'] ['SAC', 'DAL'] ['IND', 'HOU'] ['ORL', 'NJN'] ['MIL', 'UTA'] ['WAS', 'ATL'] 00480/1260\n",
      "['SEA', 'BOS'] ['MIA', 'DEN'] ['GSW', 'DET'] ['LAL', 'LAC'] ['POR', 'MIN'] ['CHI', 'NYK'] 00486/1260\n",
      "['SAS', 'PHO'] ['CHH', 'VAN'] ['GSW', 'CHI'] ['TOR', 'CLE'] ['IND', 'DAL'] ['UTA', 'HOU'] 00492/1260\n",
      "['POR', 'MIL'] ['MIN', 'NJN'] ['BOS', 'ORL'] ['SAC', 'SAS'] ['LAC', 'DET'] ['CHH', 'LAL'] 00498/1260\n",
      "['SEA', 'NYK'] ['MIA', 'VAN'] ['ATL', 'WAS'] ['LAC', 'MIL'] ['GSW', 'MIN'] ['PHO', 'SAC'] 00504/1260\n",
      "['NJN', 'TOR'] ['CLE', 'UTA'] ['SAS', 'BOS'] ['NJN', 'CHH'] ['SEA', 'CHI'] ['ORL', 'DEN'] 00510/1260\n",
      "['DAL', 'HOU'] ['ATL', 'NYK'] ['VAN', 'PHI'] ['CLE', 'PHO'] ['MIA', 'POR'] ['DAL', 'ATL'] 00516/1260\n",
      "['DET', 'IND'] ['DEN', 'LAL'] ['GSW', 'MIL'] ['ORL', 'SAC'] ['LAC', 'TOR'] ['SAS', 'WAS'] 00522/1260\n",
      "['VAN', 'BOS'] ['CHH', 'DET'] ['LAC', 'NJN'] ['CHI', 'PHI'] ['MIA', 'SEA'] ['GSW', 'ATL'] 00528/1260\n",
      "['SAS', 'CHH'] ['CLE', 'DEN'] ['MIN', 'HOU'] ['SAC', 'IND'] ['CHI', 'MIL'] ['ORL', 'PHO'] 00534/1260\n",
      "['UTA', 'POR'] ['VAN', 'WAS'] ['MIN', 'DAL'] ['MIA', 'LAL'] ['ATL', 'NJN'] ['GSW', 'PHI'] 00540/1260\n",
      "['CLE', 'SEA'] ['NYK', 'TOR'] ['ORL', 'UTA'] ['LAC', 'WAS'] ['IND', 'BOS'] ['HOU', 'CHI'] 00546/1260\n",
      "['SAS', 'MIL'] ['MIA', 'PHO'] ['DEN', 'POR'] ['TOR', 'CHH'] ['SEA', 'HOU'] ['ORL', 'LAL'] 00552/1260\n",
      "['LAC', 'MIN'] ['SAS', 'NJN'] ['BOS', 'NYK'] ['SAC', 'PHI'] ['DET', 'UTA'] ['MIL', 'ATL'] 00558/1260\n",
      "['POR', 'CLE'] ['SEA', 'DAL'] ['PHO', 'GSW'] ['DEN', 'VAN'] ['CHH', 'CHI'] ['DET', 'DEN'] 00564/1260\n",
      "['PHI', 'MIA'] ['BOS', 'MIN'] ['HOU', 'NJN'] ['IND', 'NYK'] ['MIL', 'ORL'] ['LAL', 'PHO'] 00570/1260\n",
      "['ATL', 'SAS'] ['SAC', 'TOR'] ['GSW', 'UTA'] ['POR', 'WAS'] ['HOU', 'CHH'] ['SAC', 'CLE'] 00576/1260\n",
      "['DET', 'LAC'] ['BOS', 'ATL'] ['VAN', 'GSW'] ['UTA', 'IND'] ['ORL', 'MIA'] ['CHI', 'NJN'] 00582/1260\n",
      "['POR', 'PHI'] ['DEN', 'PHO'] ['DAL', 'SAS'] ['POR', 'ATL'] ['PHI', 'CLE'] ['CHH', 'DAL'] 00588/1260\n",
      "['NYK', 'DET'] ['SAS', 'HOU'] ['BOS', 'IND'] ['DEN', 'LAC'] ['SAC', 'MIL'] ['LAL', 'SEA'] 00594/1260\n",
      "['MIN', 'TOR'] ['GSW', 'VAN'] ['NJN', 'WAS'] ['UTA', 'CHI'] ['PHO', 'ATL'] ['NYK', 'BOS'] 00600/1260\n",
      "['CLE', 'MIA'] ['SEA', 'SAC'] ['HOU', 'SAS'] ['PHI', 'TOR'] ['PHO', 'CHH'] ['CLE', 'DAL'] 00606/1260\n",
      "['NJN', 'DEN'] ['LAC', 'HOU'] ['WAS', 'IND'] ['DET', 'MIL'] ['ATL', 'MIN'] ['GSW', 'POR'] 00612/1260\n",
      "['CHI', 'VAN'] ['WAS', 'BOS'] ['ORL', 'DET'] ['NJN', 'LAL'] ['NYK', 'MIA'] ['IND', 'PHI'] 00618/1260\n",
      "['LAC', 'SAS'] ['SEA', 'UTA'] ['PHI', 'ATL'] ['TOR', 'DEN'] ['ORL', 'HOU'] ['MIL', 'NYK'] 00624/1260\n",
      "['CHI', 'POR'] ['GSW', 'SEA'] ['MIN', 'VAN'] ['CHH', 'BOS'] ['WAS', 'DET'] ['CHI', 'GSW'] 00630/1260\n",
      "['CLE', 'IND'] ['SAS', 'LAC'] ['MIN', 'LAL'] ['PHO', 'MIA'] ['TOR', 'SAC'] ['DAL', 'UTA'] 00636/1260\n",
      "['ATL', 'CHH'] ['DET', 'CLE'] ['DAL', 'DEN'] ['PHO', 'ORL'] ['HOU', 'PHI'] ['NJN', 'VAN'] 00642/1260\n",
      "['HOU', 'BOS'] ['UTA', 'GSW'] ['IND', 'LAC'] ['CHI', 'LAL'] ['MIL', 'MIN'] ['MIA', 'NYK'] 00648/1260\n",
      "['TOR', 'POR'] ['SAS', 'SAC'] ['NJN', 'SEA'] ['MIN', 'CLE'] ['VAN', 'DAL'] ['CHI', 'DEN'] 00654/1260\n",
      "['ATL', 'MIA'] ['PHO', 'PHI'] ['DET', 'WAS'] ['BOS', 'CHH'] ['SAS', 'GSW'] ['VAN', 'HOU'] 00660/1260\n",
      "['UTA', 'LAC'] ['NYK', 'MIL'] ['ATL', 'ORL'] ['NJN', 'POR'] ['IND', 'SAC'] ['PHO', 'TOR'] 00666/1260\n",
      "['DAL', 'BOS'] ['SAC', 'DEN'] ['POR', 'LAL'] ['NYK', 'MIN'] ['MIA', 'PHI'] ['IND', 'SEA'] 00672/1260\n",
      "['CHI', 'UTA'] ['CLE', 'WAS'] ['VAN', 'CHH'] ['ATL', 'CLE'] ['HOU', 'DET'] ['MIA', 'MIL'] 00678/1260\n",
      "['PHO', 'NJN'] ['WAS', 'ORL'] ['DAL', 'TOR'] ['TOR', 'CHI'] ['MIA', 'CLE'] ['BOS', 'DEN'] 00684/1260\n",
      "['WAS', 'GSW'] ['SEA', 'HOU'] ['ORL', 'IND'] ['ATL', 'MIL'] ['DAL', 'NJN'] ['CHH', 'NYK'] 00690/1260\n",
      "['SAC', 'PHO'] ['LAL', 'POR'] ['LAC', 'UTA'] ['CHI', 'CHH'] ['MIL', 'DET'] ['WAS', 'LAC'] 00696/1260\n",
      "['GSW', 'LAL'] ['IND', 'MIA'] ['ORL', 'MIN'] ['DAL', 'PHI'] ['SEA', 'SAS'] ['POR', 'PHO'] 00702/1260\n",
      "['DEN', 'SAC'] ['CLE', 'TOR'] ['BOS', 'UTA'] ['HOU', 'VAN'] ['PHI', 'CHH'] ['ATL', 'CHI'] 00708/1260\n",
      "['MIN', 'DEN'] ['SAC', 'GSW'] ['DAL', 'IND'] ['BOS', 'LAC'] ['SEA', 'LAL'] ['DET', 'MIA'] 00714/1260\n",
      "['TOR', 'NJN'] ['NYK', 'ORL'] ['HOU', 'POR'] ['IND', 'ATL'] ['MIL', 'CLE'] ['NJN', 'PHI'] 00720/1260\n",
      "['PHO', 'SAS'] ['UTA', 'SEA'] ['WAS', 'VAN'] ['DET', 'CHI'] ['BOS', 'GSW'] ['HOU', 'LAL'] 00726/1260\n",
      "['DAL', 'MIN'] ['CLE', 'NYK'] ['DEN', 'POR'] ['WAS', 'SAC'] ['MIA', 'TOR'] ['ORL', 'ATL'] 00732/1260\n",
      "['HOU', 'LAC'] ['MIL', 'NJN'] ['CHH', 'UTA'] ['IND', 'CHI'] ['PHO', 'DAL'] ['NYK', 'DEN'] 00738/1260\n",
      "['MIN', 'MIA'] ['CLE', 'PHI'] ['GSW', 'POR'] ['BOS', 'SAC'] ['DET', 'SAS'] ['NJN', 'ATL'] 00744/1260\n",
      "['CHH', 'GSW'] ['MIN', 'ORL'] ['LAL', 'PHO'] ['POR', 'SEA'] ['NYK', 'UTA'] ['BOS', 'VAN'] 00750/1260\n",
      "['MIL', 'WAS'] ['SAS', 'DAL'] ['DET', 'HOU'] ['PHI', 'IND'] ['MIA', 'LAC'] ['DEN', 'LAL'] 00756/1260\n",
      "['CHI', 'TOR'] ['VAN', 'ATL'] ['DEN', 'GSW'] ['TOR', 'MIL'] ['HOU', 'MIN'] ['CLE', 'NJN'] 00762/1260\n",
      "['IND', 'ORL'] ['CHH', 'PHO'] ['NYK', 'POR'] ['MIA', 'SAC'] ['BOS', 'SEA'] ['DET', 'DAL'] 00768/1260\n",
      "['CHH', 'LAC'] ['PHI', 'NJN'] ['UTA', 'SAS'] ['CHI', 'WAS'] ['MIA', 'GSW'] ['CLE', 'MIL'] 00774/1260\n",
      "['SAC', 'MIN'] ['HOU', 'NYK'] ['LAL', 'ORL'] ['IND', 'PHI'] ['SAS', 'PHO'] ['BOS', 'POR'] 00780/1260\n",
      "['DEN', 'SEA'] ['VAN', 'TOR'] ['CLE', 'CHI'] ['CHH', 'DEN'] ['SAC', 'DET'] ['SEA', 'LAC'] 00786/1260\n",
      "['LAL', 'MIL'] ['VAN', 'NJN'] ['GSW', 'NYK'] ['PHI', 'PHO'] ['MIN', 'SAS'] ['MIA', 'UTA'] 00792/1260\n",
      "['HOU', 'WAS'] ['SAC', 'BOS'] ['POR', 'CHI'] ['VAN', 'CLE'] ['ATL', 'DEN'] ['CHH', 'DET'] 00798/1260\n",
      "['LAL', 'IND'] ['PHI', 'LAC'] ['DAL', 'ORL'] ['MIN', 'HOU'] ['DAL', 'MIA'] ['SAC', 'NJN'] 00804/1260\n",
      "['MIL', 'NYK'] ['TOR', 'SAS'] ['PHO', 'UTA'] ['GSW', 'WAS'] ['GSW', 'BOS'] ['PHI', 'DEN'] 00810/1260\n",
      "['CLE', 'DET'] ['POR', 'IND'] ['PHO', 'LAC'] ['LAL', 'MIN'] ['TOR', 'ORL'] ['ATL', 'SEA'] 00816/1260\n",
      "['ORL', 'CHH'] ['SAC', 'CHI'] ['MIA', 'NJN'] ['PHI', 'SAS'] ['DAL', 'WAS'] ['POR', 'BOS'] 00822/1260\n",
      "['GSW', 'CLE'] ['UTA', 'HOU'] ['DEN', 'IND'] ['NJN', 'MIA'] ['DET', 'MIN'] ['LAL', 'NYK'] 00828/1260\n",
      "['PHO', 'SEA'] ['ATL', 'VAN'] ['GSW', 'CHH'] ['DAL', 'DET'] ['SAS', 'SAC'] ['LAL', 'WAS'] 00834/1260\n",
      "['DEN', 'CHI'] ['LAC', 'HOU'] ['SEA', 'MIA'] ['DAL', 'MIN'] ['NJN', 'NYK'] ['PHO', 'POR'] 00840/1260\n",
      "['UTA', 'TOR'] ['IND', 'VAN'] ['UTA', 'BOS'] ['MIN', 'CHH'] ['TOR', 'CLE'] ['SAS', 'GSW'] 00846/1260\n",
      "['IND', 'LAL'] ['SEA', 'ORL'] ['MIL', 'PHI'] ['DET', 'SAC'] ['LAC', 'DAL'] ['MIA', 'HOU'] 00852/1260\n",
      "['DEN', 'MIL'] ['DET', 'PHO'] ['NYK', 'WAS'] ['DEN', 'ATL'] ['WAS', 'BOS'] ['SEA', 'CHH'] 00858/1260\n",
      "['IND', 'GSW'] ['SAS', 'LAL'] ['TOR', 'MIN'] ['UTA', 'NJN'] ['CLE', 'ORL'] ['NYK', 'PHI'] 00864/1260\n",
      "['SAC', 'VAN'] ['MIA', 'DAL'] ['UTA', 'MIL'] ['HOU', 'PHO'] ['CLE', 'ATL'] ['LAC', 'DEN'] 00870/1260\n",
      "['BOS', 'IND'] ['DET', 'LAL'] ['SEA', 'MIN'] ['CHH', 'NJN'] ['CHI', 'NYK'] ['SAS', 'POR'] 00876/1260\n",
      "['TOR', 'VAN'] ['PHI', 'WAS'] ['ORL', 'PHI'] ['LAC', 'PHO'] ['GSW', 'SAC'] ['HOU', 'UTA'] 00882/1260\n",
      "['MIA', 'CHI'] ['PHO', 'DEN'] ['DAL', 'HOU'] ['WAS', 'MIL'] ['ORL', 'NYK'] ['NJN', 'SAS'] 00888/1260\n",
      "['TOR', 'SEA'] ['ATL', 'BOS'] ['NYK', 'CHH'] ['MIL', 'CLE'] ['IND', 'DET'] ['MIN', 'GSW'] 00894/1260\n",
      "['POR', 'LAL'] ['WAS', 'PHI'] ['SAC', 'UTA'] ['CHI', 'DAL'] ['VAN', 'DEN'] ['NJN', 'HOU'] 00900/1260\n",
      "['LAL', 'LAC'] ['CLE', 'MIA'] ['MIN', 'POR'] ['SAC', 'SAS'] ['DET', 'BOS'] ['MIL', 'IND'] 00906/1260\n",
      "['TOR', 'LAC'] ['CHH', 'ORL'] ['ATL', 'PHI'] ['GSW', 'PHO'] ['VAN', 'UTA'] ['WAS', 'CHH'] 00912/1260\n",
      "['NYK', 'CLE'] ['NJN', 'DAL'] ['POR', 'DEN'] ['SAC', 'HOU'] ['PHI', 'MIL'] ['CHI', 'SAS'] 00918/1260\n",
      "['MIN', 'SEA'] ['BOS', 'ATL'] ['UTA', 'DET'] ['TOR', 'GSW'] ['IND', 'NYK'] ['MIA', 'ORL'] 00924/1260\n",
      "['DAL', 'PHO'] ['LAC', 'POR'] ['LAL', 'VAN'] ['DEN', 'CHH'] ['NJN', 'CHI'] ['DET', 'MIA'] 00930/1260\n",
      "['UTA', 'MIN'] ['MIL', 'SAS'] ['LAL', 'SEA'] ['BOS', 'DAL'] ['LAC', 'GSW'] ['MIL', 'HOU'] 00936/1260\n",
      "['CHI', 'IND'] ['PHI', 'NYK'] ['VAN', 'ORL'] ['SAC', 'PHO'] ['CLE', 'POR'] ['ATL', 'TOR'] 00942/1260\n",
      "['DEN', 'WAS'] ['UTA', 'CHH'] ['PHI', 'DET'] ['PHO', 'LAL'] ['VAN', 'MIA'] ['SAS', 'MIN'] 00948/1260\n",
      "['LAC', 'SEA'] ['MIL', 'ATL'] ['GSW', 'DAL'] ['BOS', 'HOU'] ['ORL', 'NJN'] ['POR', 'NYK'] 00954/1260\n",
      "['CLE', 'SAC'] ['DEN', 'TOR'] ['IND', 'WAS'] ['VAN', 'CHI'] ['TOR', 'DET'] ['NJN', 'IND'] 00960/1260\n",
      "['SEA', 'LAL'] ['GSW', 'MIA'] ['DEN', 'MIN'] ['ATL', 'NYK'] ['POR', 'ORL'] ['UTA', 'PHI'] 00966/1260\n",
      "['CHH', 'SAS'] ['HOU', 'DAL'] ['CLE', 'LAC'] ['VAN', 'MIN'] ['SEA', 'PHO'] ['PHI', 'BOS'] 00972/1260\n",
      "['ATL', 'DET'] ['POR', 'MIA'] ['IND', 'MIL'] ['WAS', 'NJN'] ['UTA', 'NYK'] ['GSW', 'ORL'] 00978/1260\n",
      "['LAL', 'SAC'] ['PHO', 'SAS'] ['CHI', 'TOR'] ['BOS', 'CHI'] ['MIN', 'DAL'] ['LAL', 'DEN'] 00984/1260\n",
      "['DET', 'PHI'] ['SAC', 'SEA'] ['LAC', 'VAN'] ['ORL', 'ATL'] ['SAS', 'CLE'] ['NYK', 'GSW'] 00990/1260\n",
      "['HOU', 'MIL'] ['WAS', 'POR'] ['CHH', 'TOR'] ['PHO', 'UTA'] ['MIA', 'BOS'] ['DAL', 'DEN'] 00996/1260\n",
      "['SAS', 'DET'] ['HOU', 'IND'] ['NYK', 'LAC'] ['SAC', 'LAL'] ['CHI', 'ORL'] ['NJN', 'PHI'] 01002/1260\n",
      "['MIN', 'PHO'] ['WAS', 'SEA'] ['MIL', 'CHH'] ['SEA', 'GSW'] ['VAN', 'POR'] ['CLE', 'TOR'] 01008/1260\n",
      "['CHI', 'ATL'] ['DET', 'CLE'] ['UTA', 'DAL'] ['GSW', 'DEN'] ['CHH', 'IND'] ['MIN', 'LAC'] 01014/1260\n",
      "['MIL', 'MIA'] ['BOS', 'NJN'] ['HOU', 'ORL'] ['SAS', 'PHI'] ['WAS', 'PHO'] ['POR', 'SAC'] 01020/1260\n",
      "['NYK', 'VAN'] ['NYK', 'SEA'] ['LAL', 'UTA'] ['DET', 'ATL'] ['CHH', 'CLE'] ['POR', 'GSW'] 01026/1260\n",
      "['SAS', 'IND'] ['DAL', 'LAC'] ['WAS', 'LAL'] ['HOU', 'MIA'] ['CHI', 'MIL'] ['BOS', 'PHI'] 01032/1260\n",
      "['VAN', 'PHO'] ['MIN', 'SAC'] ['ORL', 'TOR'] ['PHI', 'CHH'] ['DET', 'CHI'] ['ORL', 'CLE'] 01038/1260\n",
      "['MIL', 'GSW'] ['PHO', 'HOU'] ['LAC', 'IND'] ['BOS', 'MIA'] ['ATL', 'NJN'] ['SAS', 'NYK'] 01044/1260\n",
      "['UTA', 'SEA'] ['LAL', 'TOR'] ['DAL', 'VAN'] ['TOR', 'ATL'] ['MIL', 'DEN'] ['CLE', 'DET'] 01050/1260\n",
      "['BOS', 'ORL'] ['POR', 'UTA'] ['PHI', 'WAS'] ['GSW', 'HOU'] ['MIN', 'IND'] ['LAL', 'NJN'] 01056/1260\n",
      "['LAC', 'NYK'] ['MIA', 'SAS'] ['DAL', 'SEA'] ['HOU', 'ATL'] ['IND', 'CHH'] ['MIN', 'CHI'] 01062/1260\n",
      "['LAL', 'CLE'] ['BOS', 'DET'] ['LAC', 'PHI'] ['DAL', 'POR'] ['MIL', 'SAC'] ['DEN', 'UTA'] 01068/1260\n",
      "['SEA', 'VAN'] ['TOR', 'WAS'] ['CHH', 'MIA'] ['NYK', 'NJN'] ['POR', 'PHO'] ['GSW', 'SAS'] 01074/1260\n",
      "['MIN', 'ATL'] ['NYK', 'BOS'] ['LAC', 'CLE'] ['SEA', 'DEN'] ['LAL', 'DET'] ['CHI', 'HOU'] 01080/1260\n",
      "['MIL', 'IND'] ['TOR', 'PHI'] ['DAL', 'SAC'] ['UTA', 'VAN'] ['ORL', 'WAS'] ['CHH', 'NJN'] 01086/1260\n",
      "['PHI', 'ORL'] ['POR', 'SAS'] ['PHO', 'SEA'] ['NYK', 'ATL'] ['WAS', 'CHI'] ['POR', 'DAL'] 01092/1260\n",
      "['HOU', 'DEN'] ['UTA', 'GSW'] ['CLE', 'IND'] ['VAN', 'LAC'] ['TOR', 'MIL'] ['MIA', 'MIN'] 01098/1260\n",
      "['PHO', 'SAC'] ['NJN', 'BOS'] ['VAN', 'LAL'] ['MIA', 'NYK'] ['DET', 'ORL'] ['CHH', 'PHI'] 01104/1260\n",
      "['MIL', 'TOR'] ['SAS', 'UTA'] ['IND', 'ATL'] ['CHI', 'CLE'] ['SEA', 'DAL'] ['SAC', 'DEN'] 01110/1260\n",
      "['HOU', 'GSW'] ['POR', 'LAC'] ['DET', 'WAS'] ['ORL', 'BOS'] ['ATL', 'CHH'] ['PHO', 'LAL'] 01116/1260\n",
      "['PHI', 'MIN'] ['HOU', 'SAC'] ['SEA', 'SAS'] ['MIA', 'TOR'] ['LAC', 'UTA'] ['ORL', 'CHI'] 01122/1260\n",
      "['PHI', 'CLE'] ['DEN', 'DAL'] ['LAL', 'GSW'] ['NJN', 'MIL'] ['UTA', 'MIN'] ['POR', 'VAN'] 01128/1260\n",
      "['IND', 'BOS'] ['DET', 'CHH'] ['NYK', 'MIA'] ['HOU', 'SEA'] ['NJN', 'TOR'] ['PHO', 'VAN'] 01134/1260\n",
      "['ATL', 'WAS'] ['IND', 'CHI'] ['PHO', 'GSW'] ['MIN', 'LAC'] ['LAL', 'SAS'] ['PHI', 'ATL'] 01140/1260\n",
      "['BOS', 'CLE'] ['LAL', 'DAL'] ['DEN', 'HOU'] ['CHH', 'MIL'] ['TOR', 'NJN'] ['WAS', 'NYK'] 01146/1260\n",
      "['SAC', 'POR'] ['VAN', 'SEA'] ['MIN', 'UTA'] ['MIL', 'BOS'] ['NJN', 'CHH'] ['CHI', 'DET'] 01152/1260\n",
      "['ATL', 'IND'] ['GSW', 'LAC'] ['ORL', 'MIA'] ['DEN', 'PHO'] ['CLE', 'WAS'] ['DAL', 'GSW'] 01158/1260\n",
      "['TOR', 'NYK'] ['LAC', 'POR'] ['SAC', 'UTA'] ['SAS', 'VAN'] ['CHH', 'ATL'] ['CLE', 'BOS'] 01164/1260\n",
      "['POR', 'DEN'] ['MIL', 'DET'] ['TOR', 'IND'] ['DAL', 'LAL'] ['WAS', 'MIA'] ['HOU', 'MIN'] 01170/1260\n",
      "['NJN', 'ORL'] ['CHI', 'PHI'] ['UTA', 'PHO'] ['SAS', 'SEA'] ['NYK', 'CHI'] ['IND', 'CLE'] 01176/1260\n",
      "['VAN', 'GSW'] ['SAC', 'LAC'] ['MIN', 'MIL'] ['BOS', 'WAS'] ['MIA', 'ATL'] ['ORL', 'CHH'] 01182/1260\n",
      "['PHO', 'HOU'] ['UTA', 'LAL'] ['DET', 'NJN'] ['SEA', 'POR'] ['VAN', 'SAC'] ['DEN', 'SAS'] 01188/1260\n",
      "['PHI', 'TOR'] ['ATL', 'CHH'] ['CLE', 'IND'] ['SAS', 'PHO'] ['HOU', 'UTA'] ['NJN', 'CHI'] 01194/1260\n",
      "['POR', 'LAL'] ['NYK', 'MIA'] ['MIN', 'SEA'] ['ATL', 'CHH'] ['CLE', 'IND'] ['SAS', 'PHO'] 01200/1260\n",
      "['HOU', 'UTA'] ['NJN', 'CHI'] ['POR', 'LAL'] ['NYK', 'MIA'] ['MIN', 'SEA'] ['IND', 'CLE'] 01206/1260\n",
      "['PHO', 'SAS'] ['CHH', 'ATL'] ['SEA', 'MIN'] ['MIA', 'NYK'] ['LAL', 'POR'] ['UTA', 'HOU'] 01212/1260\n",
      "['CHI', 'NJN'] ['PHO', 'SAS'] ['IND', 'CLE'] ['SEA', 'MIN'] ['MIA', 'NYK'] ['LAL', 'POR'] 01218/1260\n",
      "['UTA', 'HOU'] ['CHH', 'ATL'] ['MIN', 'SEA'] ['CHH', 'CHI'] ['NYK', 'MIA'] ['HOU', 'UTA'] 01224/1260\n",
      "['LAL', 'SEA'] ['NYK', 'IND'] ['SAS', 'UTA'] ['LAL', 'SEA'] ['CHH', 'CHI'] ['NYK', 'IND'] 01230/1260\n",
      "['SAS', 'UTA'] ['CHI', 'CHH'] ['SEA', 'LAL'] ['IND', 'NYK'] ['UTA', 'SAS'] ['UTA', 'SAS'] 01236/1260\n",
      "['SEA', 'LAL'] ['CHI', 'CHH'] ['IND', 'NYK'] ['LAL', 'SEA'] ['SAS', 'UTA'] ['CHH', 'CHI'] 01242/1260\n",
      "['NYK', 'IND'] ['LAL', 'UTA'] ['IND', 'CHI'] ['LAL', 'UTA'] ['IND', 'CHI'] ['UTA', 'LAL'] 01248/1260\n",
      "['CHI', 'IND'] ['UTA', 'LAL'] ['CHI', 'IND'] ['IND', 'CHI'] ['CHI', 'IND'] ['IND', 'CHI'] 01254/1260\n",
      "['CHI', 'UTA'] ['CHI', 'UTA'] ['UTA', 'CHI'] ['UTA', 'CHI'] ['UTA', 'CHI'] ['CHI', 'UTA'] 01260/1260\n"
     ]
    }
   ],
   "source": [
    "base_cols = None\n",
    "games = []\n",
    "i = 0\n",
    "for box_score in box_scores_list:\n",
    "    start = time.time()\n",
    "    soup = parse_html(box_score)\n",
    "    line_score = read_line_score(soup)\n",
    "    teams = list(line_score['team'])\n",
    "    i += 1\n",
    "    summaries = []\n",
    "    for team in teams:\n",
    "        basic = read_stats(soup, team, 'basic')\n",
    "        advanced = read_stats(soup, team, 'advanced')\n",
    "\n",
    "        totals = pd.concat([basic.iloc[-1,:], advanced.iloc[-1,:]])\n",
    "        totals.index = totals.index.str.lower()\n",
    "\n",
    "        maxes = pd.concat([basic.select_dtypes(include='number').iloc[:-1].max(), advanced.select_dtypes(include='number').iloc[:-1].max(skipna=False)])\n",
    "\n",
    "        maxes.index = maxes.index.str.lower() + '_max'\n",
    "\n",
    "        summary = pd.concat([totals, maxes])\n",
    "\n",
    "        if base_cols is None:\n",
    "            base_cols = list(summary.index.drop_duplicates(keep='first'))\n",
    "            base_cols = [b for b in base_cols if 'bpm' not in b]\n",
    "\n",
    "        base_cols = list(set(base_cols))\n",
    "\n",
    "        try:\n",
    "            summary = summary[base_cols]\n",
    "        except KeyError as e:\n",
    "            pass\n",
    "        if any(summary.index.duplicated()):\n",
    "            summary = summary[~summary.index.duplicated()]\n",
    "        summaries.append(summary)\n",
    "\n",
    "    summary = pd.concat(summaries, axis=1).T\n",
    "    game = pd.concat([summary, line_score], axis=1)\n",
    "    game['home'] = [0, 1]\n",
    "    game_opp = game.iloc[::-1].reset_index()\n",
    "    game_opp.columns += '_opp'\n",
    "\n",
    "    full_game = pd.concat([game, game_opp], axis=1)\n",
    "    full_game['season'] = read_season_info(soup)\n",
    "\n",
    "    full_game['date'] = (box_score.split('/')[-1].split('.')[0])[:8]\n",
    "    full_game['date'] = pd.to_datetime(full_game['date'], format='%Y%m%d')\n",
    "    full_game['won'] = full_game['total'] > full_game['total_opp']\n",
    "\n",
    "    games.append(full_game)\n",
    "\n",
    "    if len(games) % 6 == 0:\n",
    "        print(teams, end=f' {str(i).zfill(4)}/{len(box_scores_list)}\\n')\n",
    "        duration = time.time() - start\n",
    "        if duration < 2:\n",
    "            time.sleep(2)\n",
    "    else:\n",
    "        print(teams, end=' ')\n",
    "        duration = time.time() - start\n",
    "        if duration < 2:\n",
    "            time.sleep(2)"
   ],
   "metadata": {
    "collapsed": false
   }
  },
  {
   "cell_type": "code",
   "execution_count": null,
   "outputs": [],
   "source": [
    "games[0]"
   ],
   "metadata": {
    "collapsed": false
   }
  },
  {
   "cell_type": "code",
   "execution_count": null,
   "outputs": [],
   "source": [
    "games[1]"
   ],
   "metadata": {
    "collapsed": false
   }
  },
  {
   "cell_type": "code",
   "execution_count": 25,
   "outputs": [],
   "source": [
    "games_df = pd.concat(games, ignore_index=True)"
   ],
   "metadata": {
    "collapsed": false
   }
  },
  {
   "cell_type": "code",
   "execution_count": 26,
   "outputs": [],
   "source": [
    "games_df.to_csv('NBA_data/nba_games_1998.csv')"
   ],
   "metadata": {
    "collapsed": false
   }
  },
  {
   "cell_type": "code",
   "execution_count": 19,
   "outputs": [],
   "source": [
    "df_99 = pd.read_csv('NBA_data//nba_games_1999.csv', index_col=0)\n",
    "df_00 = pd.read_csv('NBA_data//nba_games_2000.csv', index_col=0)\n",
    "df_01 = pd.read_csv('NBA_data//nba_games_2001.csv', index_col=0)\n",
    "df_02 = pd.read_csv('NBA_data//nba_games_2002.csv', index_col=0)\n",
    "df_03 = pd.read_csv('NBA_data//nba_games_2003.csv', index_col=0)\n",
    "df_04 = pd.read_csv('NBA_data//nba_games_2004.csv', index_col=0)\n",
    "df_05 = pd.read_csv('NBA_data//nba_games_2005.csv', index_col=0)\n",
    "df_06 = pd.read_csv('NBA_data//nba_games_2006.csv', index_col=0)\n",
    "df_07 = pd.read_csv('NBA_data//nba_games_2007.csv', index_col=0)\n",
    "df_08 = pd.read_csv('NBA_data//nba_games_2008.csv', index_col=0)\n",
    "df_09 = pd.read_csv('NBA_data//nba_games_2009.csv', index_col=0)\n",
    "df_10 = pd.read_csv('NBA_data//nba_games_2010.csv', index_col=0)\n",
    "df_11 = pd.read_csv('NBA_data//nba_games_2011.csv', index_col=0)\n",
    "df_12 = pd.read_csv('NBA_data//nba_games_2012.csv', index_col=0)\n",
    "df_13 = pd.read_csv('NBA_data//nba_games_2013.csv', index_col=0)\n",
    "df_14 = pd.read_csv('NBA_data//nba_games_2014.csv', index_col=0)\n",
    "df_15 = pd.read_csv('NBA_data//nba_games_2015.csv', index_col=0)\n",
    "df_16 = pd.read_csv('NBA_data//nba_games_2016.csv', index_col=0)\n",
    "df_17 = pd.read_csv('NBA_data//nba_games_2017.csv', index_col=0)\n",
    "df_18 = pd.read_csv('NBA_data//nba_games_2018.csv', index_col=0)\n",
    "df_19 = pd.read_csv('NBA_data//nba_games_2019.csv', index_col=0)\n",
    "df_20 = pd.read_csv('NBA_data//nba_games_2020.csv', index_col=0)\n",
    "df_21 = pd.read_csv('NBA_data//nba_games_2021.csv', index_col=0)\n",
    "df_22 = pd.read_csv('NBA_data//nba_games_2022.csv', index_col=0)"
   ],
   "metadata": {
    "collapsed": false
   }
  },
  {
   "cell_type": "code",
   "execution_count": 20,
   "outputs": [],
   "source": [
    "df = pd.concat([df_99, df_00, df_01, df_02, df_03, df_04, df_05, df_06, df_07, df_08, df_09, df_10, df_11, df_12, df_13, df_14, df_15, df_16, df_17, df_18, df_19, df_20, df_21, df_22], ignore_index=True)"
   ],
   "metadata": {
    "collapsed": false
   }
  },
  {
   "cell_type": "code",
   "execution_count": 21,
   "outputs": [],
   "source": [
    "df.to_csv('NBA_data/nba_games_1999_2022.csv')"
   ],
   "metadata": {
    "collapsed": false
   }
  }
 ],
 "metadata": {
  "kernelspec": {
   "display_name": "Python 3",
   "language": "python",
   "name": "python3"
  },
  "language_info": {
   "codemirror_mode": {
    "name": "ipython",
    "version": 2
   },
   "file_extension": ".py",
   "mimetype": "text/x-python",
   "name": "python",
   "nbconvert_exporter": "python",
   "pygments_lexer": "ipython2",
   "version": "2.7.6"
  }
 },
 "nbformat": 4,
 "nbformat_minor": 0
}
