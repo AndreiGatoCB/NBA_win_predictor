{
 "cells": [
  {
   "cell_type": "code",
   "execution_count": 1,
   "outputs": [],
   "source": [
    "# %pip install scikit-learn\n"
   ],
   "metadata": {
    "collapsed": false
   }
  },
  {
   "cell_type": "code",
   "execution_count": 2,
   "metadata": {
    "collapsed": true
   },
   "outputs": [],
   "source": [
    "import pandas as pd\n",
    "\n",
    "from sklearn.model_selection import TimeSeriesSplit\n",
    "from sklearn.feature_selection import SequentialFeatureSelector\n",
    "from sklearn.linear_model import RidgeClassifier\n",
    "\n",
    "from sklearn.preprocessing import MinMaxScaler\n",
    "\n",
    "from sklearn.metrics import accuracy_score"
   ]
  },
  {
   "cell_type": "code",
   "execution_count": 76,
   "outputs": [],
   "source": [
    "df_99_22 = pd.read_csv('NBA_data//nba_games_1999_2022.csv', index_col=0)\n",
    "df_23 = pd.read_csv('NBA_data//nba_games_2023.csv', index_col=0)"
   ],
   "metadata": {
    "collapsed": false
   }
  },
  {
   "cell_type": "code",
   "execution_count": 77,
   "outputs": [],
   "source": [
    "df = pd.concat([df_99_22, df_23])"
   ],
   "metadata": {
    "collapsed": false
   }
  },
  {
   "cell_type": "code",
   "execution_count": 78,
   "outputs": [],
   "source": [
    "df = df.sort_values('date')"
   ],
   "metadata": {
    "collapsed": false
   }
  },
  {
   "cell_type": "code",
   "execution_count": 79,
   "outputs": [],
   "source": [
    "df = df.reset_index(drop=True)"
   ],
   "metadata": {
    "collapsed": false
   }
  },
  {
   "cell_type": "code",
   "execution_count": 80,
   "outputs": [],
   "source": [
    "del df['index_opp']"
   ],
   "metadata": {
    "collapsed": false
   }
  },
  {
   "cell_type": "code",
   "execution_count": 81,
   "outputs": [],
   "source": [
    "def add_target(team):\n",
    "    team['target'] = team['won'].shift(-1)\n",
    "    return team"
   ],
   "metadata": {
    "collapsed": false
   }
  },
  {
   "cell_type": "code",
   "execution_count": 82,
   "outputs": [],
   "source": [
    "df = df.groupby('team', group_keys=False).apply(add_target)"
   ],
   "metadata": {
    "collapsed": false
   }
  },
  {
   "cell_type": "code",
   "execution_count": 10,
   "outputs": [
    {
     "data": {
      "text/plain": "       stl%  blk%  blk  3pa   3par  orb  tov%  3p  ast   ortg  ...  fta_opp  \\\n21      4.4   5.2    3   12  0.143    6  11.1   2   11   89.9  ...       43   \n24     10.7   0.0    0   14  0.169   15  13.6   5   24  105.1  ...       22   \n63      8.8   0.0    0   11  0.138   15  15.5   5   25  113.3  ...       48   \n91      7.8   7.4    4   12  0.148   17  11.8   2   14   97.8  ...       33   \n189     9.6   8.7    6   13  0.157   16  19.9   4   20   90.6  ...       32   \n...     ...   ...  ...  ...    ...  ...   ...  ..  ...    ...  ...      ...   \n62794   9.1   8.9    5   37  0.468    5  17.2  16   26  110.8  ...       18   \n62818   6.4   8.0    4   27  0.273    9   7.7  13   30  117.9  ...       29   \n62835   9.6  16.7    9   28  0.298   12  11.7   6   23  111.6  ...       40   \n62866   3.9   5.9    3   33  0.393   12  13.8   7   23  111.3  ...       12   \n62890  10.7   7.2    5   45  0.464   14  10.1  14   28  106.5  ...       28   \n\n       3p%_opp  ts%_opp  team_opp  total_opp  home_opp  season        date  \\\n21       0.300    0.552       IND         96         1    1999  1999-02-05   \n24       0.545    0.547       TOR         97         0    1999  1999-02-06   \n63       0.267    0.588       DET        106         1    1999  1999-02-08   \n91       0.583    0.627       NYK        101         1    1999  1999-02-10   \n189      0.308    0.500       ORL         96         1    1999  1999-02-17   \n...        ...      ...       ...        ...       ...     ...         ...   \n62794    0.406    0.615       NYK        118         1    2023  2023-04-02   \n62818    0.548    0.668       MIL        140         0    2023  2023-04-04   \n62835    0.433    0.659       ATL        134         1    2023  2023-04-05   \n62866    0.319    0.523       MIA        108         0    2023  2023-04-07   \n62890    0.286    0.557       HOU        114         0    2023  2023-04-09   \n\n         won  target  \n21     False    True  \n24      True   False  \n63     False   False  \n91     False   False  \n189    False    True  \n...      ...     ...  \n62794  False   False  \n62818  False   False  \n62835  False    True  \n62866   True   False  \n62890  False     NaN  \n\n[2055 rows x 78 columns]",
      "text/html": "<div>\n<style scoped>\n    .dataframe tbody tr th:only-of-type {\n        vertical-align: middle;\n    }\n\n    .dataframe tbody tr th {\n        vertical-align: top;\n    }\n\n    .dataframe thead th {\n        text-align: right;\n    }\n</style>\n<table border=\"1\" class=\"dataframe\">\n  <thead>\n    <tr style=\"text-align: right;\">\n      <th></th>\n      <th>stl%</th>\n      <th>blk%</th>\n      <th>blk</th>\n      <th>3pa</th>\n      <th>3par</th>\n      <th>orb</th>\n      <th>tov%</th>\n      <th>3p</th>\n      <th>ast</th>\n      <th>ortg</th>\n      <th>...</th>\n      <th>fta_opp</th>\n      <th>3p%_opp</th>\n      <th>ts%_opp</th>\n      <th>team_opp</th>\n      <th>total_opp</th>\n      <th>home_opp</th>\n      <th>season</th>\n      <th>date</th>\n      <th>won</th>\n      <th>target</th>\n    </tr>\n  </thead>\n  <tbody>\n    <tr>\n      <th>21</th>\n      <td>4.4</td>\n      <td>5.2</td>\n      <td>3</td>\n      <td>12</td>\n      <td>0.143</td>\n      <td>6</td>\n      <td>11.1</td>\n      <td>2</td>\n      <td>11</td>\n      <td>89.9</td>\n      <td>...</td>\n      <td>43</td>\n      <td>0.300</td>\n      <td>0.552</td>\n      <td>IND</td>\n      <td>96</td>\n      <td>1</td>\n      <td>1999</td>\n      <td>1999-02-05</td>\n      <td>False</td>\n      <td>True</td>\n    </tr>\n    <tr>\n      <th>24</th>\n      <td>10.7</td>\n      <td>0.0</td>\n      <td>0</td>\n      <td>14</td>\n      <td>0.169</td>\n      <td>15</td>\n      <td>13.6</td>\n      <td>5</td>\n      <td>24</td>\n      <td>105.1</td>\n      <td>...</td>\n      <td>22</td>\n      <td>0.545</td>\n      <td>0.547</td>\n      <td>TOR</td>\n      <td>97</td>\n      <td>0</td>\n      <td>1999</td>\n      <td>1999-02-06</td>\n      <td>True</td>\n      <td>False</td>\n    </tr>\n    <tr>\n      <th>63</th>\n      <td>8.8</td>\n      <td>0.0</td>\n      <td>0</td>\n      <td>11</td>\n      <td>0.138</td>\n      <td>15</td>\n      <td>15.5</td>\n      <td>5</td>\n      <td>25</td>\n      <td>113.3</td>\n      <td>...</td>\n      <td>48</td>\n      <td>0.267</td>\n      <td>0.588</td>\n      <td>DET</td>\n      <td>106</td>\n      <td>1</td>\n      <td>1999</td>\n      <td>1999-02-08</td>\n      <td>False</td>\n      <td>False</td>\n    </tr>\n    <tr>\n      <th>91</th>\n      <td>7.8</td>\n      <td>7.4</td>\n      <td>4</td>\n      <td>12</td>\n      <td>0.148</td>\n      <td>17</td>\n      <td>11.8</td>\n      <td>2</td>\n      <td>14</td>\n      <td>97.8</td>\n      <td>...</td>\n      <td>33</td>\n      <td>0.583</td>\n      <td>0.627</td>\n      <td>NYK</td>\n      <td>101</td>\n      <td>1</td>\n      <td>1999</td>\n      <td>1999-02-10</td>\n      <td>False</td>\n      <td>False</td>\n    </tr>\n    <tr>\n      <th>189</th>\n      <td>9.6</td>\n      <td>8.7</td>\n      <td>6</td>\n      <td>13</td>\n      <td>0.157</td>\n      <td>16</td>\n      <td>19.9</td>\n      <td>4</td>\n      <td>20</td>\n      <td>90.6</td>\n      <td>...</td>\n      <td>32</td>\n      <td>0.308</td>\n      <td>0.500</td>\n      <td>ORL</td>\n      <td>96</td>\n      <td>1</td>\n      <td>1999</td>\n      <td>1999-02-17</td>\n      <td>False</td>\n      <td>True</td>\n    </tr>\n    <tr>\n      <th>...</th>\n      <td>...</td>\n      <td>...</td>\n      <td>...</td>\n      <td>...</td>\n      <td>...</td>\n      <td>...</td>\n      <td>...</td>\n      <td>...</td>\n      <td>...</td>\n      <td>...</td>\n      <td>...</td>\n      <td>...</td>\n      <td>...</td>\n      <td>...</td>\n      <td>...</td>\n      <td>...</td>\n      <td>...</td>\n      <td>...</td>\n      <td>...</td>\n      <td>...</td>\n      <td>...</td>\n    </tr>\n    <tr>\n      <th>62794</th>\n      <td>9.1</td>\n      <td>8.9</td>\n      <td>5</td>\n      <td>37</td>\n      <td>0.468</td>\n      <td>5</td>\n      <td>17.2</td>\n      <td>16</td>\n      <td>26</td>\n      <td>110.8</td>\n      <td>...</td>\n      <td>18</td>\n      <td>0.406</td>\n      <td>0.615</td>\n      <td>NYK</td>\n      <td>118</td>\n      <td>1</td>\n      <td>2023</td>\n      <td>2023-04-02</td>\n      <td>False</td>\n      <td>False</td>\n    </tr>\n    <tr>\n      <th>62818</th>\n      <td>6.4</td>\n      <td>8.0</td>\n      <td>4</td>\n      <td>27</td>\n      <td>0.273</td>\n      <td>9</td>\n      <td>7.7</td>\n      <td>13</td>\n      <td>30</td>\n      <td>117.9</td>\n      <td>...</td>\n      <td>29</td>\n      <td>0.548</td>\n      <td>0.668</td>\n      <td>MIL</td>\n      <td>140</td>\n      <td>0</td>\n      <td>2023</td>\n      <td>2023-04-04</td>\n      <td>False</td>\n      <td>False</td>\n    </tr>\n    <tr>\n      <th>62835</th>\n      <td>9.6</td>\n      <td>16.7</td>\n      <td>9</td>\n      <td>28</td>\n      <td>0.298</td>\n      <td>12</td>\n      <td>11.7</td>\n      <td>6</td>\n      <td>23</td>\n      <td>111.6</td>\n      <td>...</td>\n      <td>40</td>\n      <td>0.433</td>\n      <td>0.659</td>\n      <td>ATL</td>\n      <td>134</td>\n      <td>1</td>\n      <td>2023</td>\n      <td>2023-04-05</td>\n      <td>False</td>\n      <td>True</td>\n    </tr>\n    <tr>\n      <th>62866</th>\n      <td>3.9</td>\n      <td>5.9</td>\n      <td>3</td>\n      <td>33</td>\n      <td>0.393</td>\n      <td>12</td>\n      <td>13.8</td>\n      <td>7</td>\n      <td>23</td>\n      <td>111.3</td>\n      <td>...</td>\n      <td>12</td>\n      <td>0.319</td>\n      <td>0.523</td>\n      <td>MIA</td>\n      <td>108</td>\n      <td>0</td>\n      <td>2023</td>\n      <td>2023-04-07</td>\n      <td>True</td>\n      <td>False</td>\n    </tr>\n    <tr>\n      <th>62890</th>\n      <td>10.7</td>\n      <td>7.2</td>\n      <td>5</td>\n      <td>45</td>\n      <td>0.464</td>\n      <td>14</td>\n      <td>10.1</td>\n      <td>14</td>\n      <td>28</td>\n      <td>106.5</td>\n      <td>...</td>\n      <td>28</td>\n      <td>0.286</td>\n      <td>0.557</td>\n      <td>HOU</td>\n      <td>114</td>\n      <td>0</td>\n      <td>2023</td>\n      <td>2023-04-09</td>\n      <td>False</td>\n      <td>NaN</td>\n    </tr>\n  </tbody>\n</table>\n<p>2055 rows × 78 columns</p>\n</div>"
     },
     "execution_count": 10,
     "metadata": {},
     "output_type": "execute_result"
    }
   ],
   "source": [
    "df[df['team'] == 'WAS']"
   ],
   "metadata": {
    "collapsed": false
   }
  },
  {
   "cell_type": "code",
   "execution_count": 85,
   "outputs": [
    {
     "name": "stderr",
     "output_type": "stream",
     "text": [
      "C:\\Users\\USER\\AppData\\Local\\Temp\\ipykernel_16632\\430200610.py:1: SettingWithCopyWarning: \n",
      "A value is trying to be set on a copy of a slice from a DataFrame\n",
      "\n",
      "See the caveats in the documentation: https://pandas.pydata.org/pandas-docs/stable/user_guide/indexing.html#returning-a-view-versus-a-copy\n",
      "  df['target'][pd.isnull(df['target'])] = 2\n"
     ]
    }
   ],
   "source": [
    "df['target'][pd.isnull(df['target'])] = 2"
   ],
   "metadata": {
    "collapsed": false
   }
  },
  {
   "cell_type": "code",
   "execution_count": 87,
   "outputs": [
    {
     "data": {
      "text/plain": "       stl%  blk%  blk  3pa   3par  orb  tov%  3p  ast   ortg  ...  fta_opp  \\\n0      12.2   0.0    0    3  0.038   13  15.7   1   15   91.7  ...       43   \n1      12.4   5.7    3   13  0.153   15  11.2   6   20  108.3  ...       42   \n2       6.0   6.1    4   22  0.227   20   5.5   6   24  109.7  ...       15   \n3       2.4   5.3    4   18  0.214   12   9.0   6   21  102.5  ...       13   \n4      14.2   7.5    6   12  0.141   18  18.4   4   24  102.5  ...       20   \n...     ...   ...  ...  ...    ...  ...   ...  ..  ...    ...  ...      ...   \n52957   8.1   4.7    2   28  0.373    9  13.3  11   23  124.3  ...       20   \n52958   3.3   8.8    5   18  0.225   13  12.4   5   28  120.4  ...       19   \n52959   7.7   4.8    3   35  0.380   10   3.8  11   20  103.8  ...       27   \n52960  12.4  13.2    7   28  0.354    5   6.4  14   26  121.9  ...       20   \n52961   2.3   5.9    3   25  0.321    8  13.9   8   23  107.2  ...       21   \n\n       3p%_opp  ts%_opp  team_opp  total_opp  home_opp  season        date  \\\n0        0.200    0.556       ATL        100         1    1999  1999-02-05   \n1        0.500    0.671       UTA        104         1    1999  1999-02-05   \n2        0.333    0.475       DAL         86         0    1999  1999-02-05   \n3        0.273    0.448       SEA         92         1    1999  1999-02-05   \n4        0.250    0.396       SAC         83         0    1999  1999-02-05   \n...        ...      ...       ...        ...       ...     ...         ...   \n52957    0.486    0.639       MIA        111         0    2023  2023-06-04   \n52958    0.314    0.468       MIA         94         1    2023  2023-06-07   \n52959    0.278    0.593       DEN        109         0    2023  2023-06-07   \n52960    0.320    0.547       MIA         95         1    2023  2023-06-09   \n52961    0.500    0.612       DEN        108         0    2023  2023-06-09   \n\n         won  target  \n0      False       0  \n1      False       1  \n2       True       1  \n3      False       1  \n4       True       1  \n...      ...     ...  \n52957  False       1  \n52958   True       1  \n52959  False       0  \n52960   True       2  \n52961  False       2  \n\n[52962 rows x 78 columns]",
      "text/html": "<div>\n<style scoped>\n    .dataframe tbody tr th:only-of-type {\n        vertical-align: middle;\n    }\n\n    .dataframe tbody tr th {\n        vertical-align: top;\n    }\n\n    .dataframe thead th {\n        text-align: right;\n    }\n</style>\n<table border=\"1\" class=\"dataframe\">\n  <thead>\n    <tr style=\"text-align: right;\">\n      <th></th>\n      <th>stl%</th>\n      <th>blk%</th>\n      <th>blk</th>\n      <th>3pa</th>\n      <th>3par</th>\n      <th>orb</th>\n      <th>tov%</th>\n      <th>3p</th>\n      <th>ast</th>\n      <th>ortg</th>\n      <th>...</th>\n      <th>fta_opp</th>\n      <th>3p%_opp</th>\n      <th>ts%_opp</th>\n      <th>team_opp</th>\n      <th>total_opp</th>\n      <th>home_opp</th>\n      <th>season</th>\n      <th>date</th>\n      <th>won</th>\n      <th>target</th>\n    </tr>\n  </thead>\n  <tbody>\n    <tr>\n      <th>0</th>\n      <td>12.2</td>\n      <td>0.0</td>\n      <td>0</td>\n      <td>3</td>\n      <td>0.038</td>\n      <td>13</td>\n      <td>15.7</td>\n      <td>1</td>\n      <td>15</td>\n      <td>91.7</td>\n      <td>...</td>\n      <td>43</td>\n      <td>0.200</td>\n      <td>0.556</td>\n      <td>ATL</td>\n      <td>100</td>\n      <td>1</td>\n      <td>1999</td>\n      <td>1999-02-05</td>\n      <td>False</td>\n      <td>0</td>\n    </tr>\n    <tr>\n      <th>1</th>\n      <td>12.4</td>\n      <td>5.7</td>\n      <td>3</td>\n      <td>13</td>\n      <td>0.153</td>\n      <td>15</td>\n      <td>11.2</td>\n      <td>6</td>\n      <td>20</td>\n      <td>108.3</td>\n      <td>...</td>\n      <td>42</td>\n      <td>0.500</td>\n      <td>0.671</td>\n      <td>UTA</td>\n      <td>104</td>\n      <td>1</td>\n      <td>1999</td>\n      <td>1999-02-05</td>\n      <td>False</td>\n      <td>1</td>\n    </tr>\n    <tr>\n      <th>2</th>\n      <td>6.0</td>\n      <td>6.1</td>\n      <td>4</td>\n      <td>22</td>\n      <td>0.227</td>\n      <td>20</td>\n      <td>5.5</td>\n      <td>6</td>\n      <td>24</td>\n      <td>109.7</td>\n      <td>...</td>\n      <td>15</td>\n      <td>0.333</td>\n      <td>0.475</td>\n      <td>DAL</td>\n      <td>86</td>\n      <td>0</td>\n      <td>1999</td>\n      <td>1999-02-05</td>\n      <td>True</td>\n      <td>1</td>\n    </tr>\n    <tr>\n      <th>3</th>\n      <td>2.4</td>\n      <td>5.3</td>\n      <td>4</td>\n      <td>18</td>\n      <td>0.214</td>\n      <td>12</td>\n      <td>9.0</td>\n      <td>6</td>\n      <td>21</td>\n      <td>102.5</td>\n      <td>...</td>\n      <td>13</td>\n      <td>0.273</td>\n      <td>0.448</td>\n      <td>SEA</td>\n      <td>92</td>\n      <td>1</td>\n      <td>1999</td>\n      <td>1999-02-05</td>\n      <td>False</td>\n      <td>1</td>\n    </tr>\n    <tr>\n      <th>4</th>\n      <td>14.2</td>\n      <td>7.5</td>\n      <td>6</td>\n      <td>12</td>\n      <td>0.141</td>\n      <td>18</td>\n      <td>18.4</td>\n      <td>4</td>\n      <td>24</td>\n      <td>102.5</td>\n      <td>...</td>\n      <td>20</td>\n      <td>0.250</td>\n      <td>0.396</td>\n      <td>SAC</td>\n      <td>83</td>\n      <td>0</td>\n      <td>1999</td>\n      <td>1999-02-05</td>\n      <td>True</td>\n      <td>1</td>\n    </tr>\n    <tr>\n      <th>...</th>\n      <td>...</td>\n      <td>...</td>\n      <td>...</td>\n      <td>...</td>\n      <td>...</td>\n      <td>...</td>\n      <td>...</td>\n      <td>...</td>\n      <td>...</td>\n      <td>...</td>\n      <td>...</td>\n      <td>...</td>\n      <td>...</td>\n      <td>...</td>\n      <td>...</td>\n      <td>...</td>\n      <td>...</td>\n      <td>...</td>\n      <td>...</td>\n      <td>...</td>\n      <td>...</td>\n    </tr>\n    <tr>\n      <th>52957</th>\n      <td>8.1</td>\n      <td>4.7</td>\n      <td>2</td>\n      <td>28</td>\n      <td>0.373</td>\n      <td>9</td>\n      <td>13.3</td>\n      <td>11</td>\n      <td>23</td>\n      <td>124.3</td>\n      <td>...</td>\n      <td>20</td>\n      <td>0.486</td>\n      <td>0.639</td>\n      <td>MIA</td>\n      <td>111</td>\n      <td>0</td>\n      <td>2023</td>\n      <td>2023-06-04</td>\n      <td>False</td>\n      <td>1</td>\n    </tr>\n    <tr>\n      <th>52958</th>\n      <td>3.3</td>\n      <td>8.8</td>\n      <td>5</td>\n      <td>18</td>\n      <td>0.225</td>\n      <td>13</td>\n      <td>12.4</td>\n      <td>5</td>\n      <td>28</td>\n      <td>120.4</td>\n      <td>...</td>\n      <td>19</td>\n      <td>0.314</td>\n      <td>0.468</td>\n      <td>MIA</td>\n      <td>94</td>\n      <td>1</td>\n      <td>2023</td>\n      <td>2023-06-07</td>\n      <td>True</td>\n      <td>1</td>\n    </tr>\n    <tr>\n      <th>52959</th>\n      <td>7.7</td>\n      <td>4.8</td>\n      <td>3</td>\n      <td>35</td>\n      <td>0.380</td>\n      <td>10</td>\n      <td>3.8</td>\n      <td>11</td>\n      <td>20</td>\n      <td>103.8</td>\n      <td>...</td>\n      <td>27</td>\n      <td>0.278</td>\n      <td>0.593</td>\n      <td>DEN</td>\n      <td>109</td>\n      <td>0</td>\n      <td>2023</td>\n      <td>2023-06-07</td>\n      <td>False</td>\n      <td>0</td>\n    </tr>\n    <tr>\n      <th>52960</th>\n      <td>12.4</td>\n      <td>13.2</td>\n      <td>7</td>\n      <td>28</td>\n      <td>0.354</td>\n      <td>5</td>\n      <td>6.4</td>\n      <td>14</td>\n      <td>26</td>\n      <td>121.9</td>\n      <td>...</td>\n      <td>20</td>\n      <td>0.320</td>\n      <td>0.547</td>\n      <td>MIA</td>\n      <td>95</td>\n      <td>1</td>\n      <td>2023</td>\n      <td>2023-06-09</td>\n      <td>True</td>\n      <td>2</td>\n    </tr>\n    <tr>\n      <th>52961</th>\n      <td>2.3</td>\n      <td>5.9</td>\n      <td>3</td>\n      <td>25</td>\n      <td>0.321</td>\n      <td>8</td>\n      <td>13.9</td>\n      <td>8</td>\n      <td>23</td>\n      <td>107.2</td>\n      <td>...</td>\n      <td>21</td>\n      <td>0.500</td>\n      <td>0.612</td>\n      <td>DEN</td>\n      <td>108</td>\n      <td>0</td>\n      <td>2023</td>\n      <td>2023-06-09</td>\n      <td>False</td>\n      <td>2</td>\n    </tr>\n  </tbody>\n</table>\n<p>52962 rows × 78 columns</p>\n</div>"
     },
     "execution_count": 87,
     "metadata": {},
     "output_type": "execute_result"
    }
   ],
   "source": [
    "df"
   ],
   "metadata": {
    "collapsed": false
   }
  },
  {
   "cell_type": "code",
   "execution_count": 86,
   "outputs": [],
   "source": [
    "df['target'] = df['target'].astype(int, errors='ignore')"
   ],
   "metadata": {
    "collapsed": false
   }
  },
  {
   "cell_type": "code",
   "execution_count": 100,
   "outputs": [
    {
     "data": {
      "text/plain": "1    26464\n0    26461\n2       37\nName: target, dtype: int64"
     },
     "execution_count": 100,
     "metadata": {},
     "output_type": "execute_result"
    }
   ],
   "source": [
    "df['target'].value_counts()"
   ],
   "metadata": {
    "collapsed": false
   }
  },
  {
   "cell_type": "code",
   "execution_count": 14,
   "outputs": [],
   "source": [
    "nulls = pd.isnull(df)"
   ],
   "metadata": {
    "collapsed": false
   }
  },
  {
   "cell_type": "code",
   "execution_count": 15,
   "outputs": [
    {
     "data": {
      "text/plain": "        stl%   blk%    blk    3pa   3par    orb   tov%     3p    ast   ortg  \\\n0      False  False  False  False  False  False  False  False  False  False   \n1      False  False  False  False  False  False  False  False  False  False   \n2      False  False  False  False  False  False  False  False  False  False   \n3      False  False  False  False  False  False  False  False  False  False   \n4      False  False  False  False  False  False  False  False  False  False   \n...      ...    ...    ...    ...    ...    ...    ...    ...    ...    ...   \n63067  False  False  False  False  False  False  False  False  False  False   \n63068  False  False  False  False  False  False  False  False  False  False   \n63069  False  False  False  False  False  False  False  False  False  False   \n63070  False  False  False  False  False  False  False  False  False  False   \n63071  False  False  False  False  False  False  False  False  False  False   \n\n       ...  fta_opp  3p%_opp  ts%_opp  team_opp  total_opp  home_opp  season  \\\n0      ...    False    False    False     False      False     False   False   \n1      ...    False    False    False     False      False     False   False   \n2      ...    False    False    False     False      False     False   False   \n3      ...    False    False    False     False      False     False   False   \n4      ...    False    False    False     False      False     False   False   \n...    ...      ...      ...      ...       ...        ...       ...     ...   \n63067  ...    False    False    False     False      False     False   False   \n63068  ...    False    False    False     False      False     False   False   \n63069  ...    False    False    False     False      False     False   False   \n63070  ...    False    False    False     False      False     False   False   \n63071  ...    False    False    False     False      False     False   False   \n\n        date    won  target  \n0      False  False   False  \n1      False  False   False  \n2      False  False   False  \n3      False  False   False  \n4      False  False   False  \n...      ...    ...     ...  \n63067  False  False   False  \n63068  False  False   False  \n63069  False  False   False  \n63070  False  False   False  \n63071  False  False   False  \n\n[63072 rows x 78 columns]",
      "text/html": "<div>\n<style scoped>\n    .dataframe tbody tr th:only-of-type {\n        vertical-align: middle;\n    }\n\n    .dataframe tbody tr th {\n        vertical-align: top;\n    }\n\n    .dataframe thead th {\n        text-align: right;\n    }\n</style>\n<table border=\"1\" class=\"dataframe\">\n  <thead>\n    <tr style=\"text-align: right;\">\n      <th></th>\n      <th>stl%</th>\n      <th>blk%</th>\n      <th>blk</th>\n      <th>3pa</th>\n      <th>3par</th>\n      <th>orb</th>\n      <th>tov%</th>\n      <th>3p</th>\n      <th>ast</th>\n      <th>ortg</th>\n      <th>...</th>\n      <th>fta_opp</th>\n      <th>3p%_opp</th>\n      <th>ts%_opp</th>\n      <th>team_opp</th>\n      <th>total_opp</th>\n      <th>home_opp</th>\n      <th>season</th>\n      <th>date</th>\n      <th>won</th>\n      <th>target</th>\n    </tr>\n  </thead>\n  <tbody>\n    <tr>\n      <th>0</th>\n      <td>False</td>\n      <td>False</td>\n      <td>False</td>\n      <td>False</td>\n      <td>False</td>\n      <td>False</td>\n      <td>False</td>\n      <td>False</td>\n      <td>False</td>\n      <td>False</td>\n      <td>...</td>\n      <td>False</td>\n      <td>False</td>\n      <td>False</td>\n      <td>False</td>\n      <td>False</td>\n      <td>False</td>\n      <td>False</td>\n      <td>False</td>\n      <td>False</td>\n      <td>False</td>\n    </tr>\n    <tr>\n      <th>1</th>\n      <td>False</td>\n      <td>False</td>\n      <td>False</td>\n      <td>False</td>\n      <td>False</td>\n      <td>False</td>\n      <td>False</td>\n      <td>False</td>\n      <td>False</td>\n      <td>False</td>\n      <td>...</td>\n      <td>False</td>\n      <td>False</td>\n      <td>False</td>\n      <td>False</td>\n      <td>False</td>\n      <td>False</td>\n      <td>False</td>\n      <td>False</td>\n      <td>False</td>\n      <td>False</td>\n    </tr>\n    <tr>\n      <th>2</th>\n      <td>False</td>\n      <td>False</td>\n      <td>False</td>\n      <td>False</td>\n      <td>False</td>\n      <td>False</td>\n      <td>False</td>\n      <td>False</td>\n      <td>False</td>\n      <td>False</td>\n      <td>...</td>\n      <td>False</td>\n      <td>False</td>\n      <td>False</td>\n      <td>False</td>\n      <td>False</td>\n      <td>False</td>\n      <td>False</td>\n      <td>False</td>\n      <td>False</td>\n      <td>False</td>\n    </tr>\n    <tr>\n      <th>3</th>\n      <td>False</td>\n      <td>False</td>\n      <td>False</td>\n      <td>False</td>\n      <td>False</td>\n      <td>False</td>\n      <td>False</td>\n      <td>False</td>\n      <td>False</td>\n      <td>False</td>\n      <td>...</td>\n      <td>False</td>\n      <td>False</td>\n      <td>False</td>\n      <td>False</td>\n      <td>False</td>\n      <td>False</td>\n      <td>False</td>\n      <td>False</td>\n      <td>False</td>\n      <td>False</td>\n    </tr>\n    <tr>\n      <th>4</th>\n      <td>False</td>\n      <td>False</td>\n      <td>False</td>\n      <td>False</td>\n      <td>False</td>\n      <td>False</td>\n      <td>False</td>\n      <td>False</td>\n      <td>False</td>\n      <td>False</td>\n      <td>...</td>\n      <td>False</td>\n      <td>False</td>\n      <td>False</td>\n      <td>False</td>\n      <td>False</td>\n      <td>False</td>\n      <td>False</td>\n      <td>False</td>\n      <td>False</td>\n      <td>False</td>\n    </tr>\n    <tr>\n      <th>...</th>\n      <td>...</td>\n      <td>...</td>\n      <td>...</td>\n      <td>...</td>\n      <td>...</td>\n      <td>...</td>\n      <td>...</td>\n      <td>...</td>\n      <td>...</td>\n      <td>...</td>\n      <td>...</td>\n      <td>...</td>\n      <td>...</td>\n      <td>...</td>\n      <td>...</td>\n      <td>...</td>\n      <td>...</td>\n      <td>...</td>\n      <td>...</td>\n      <td>...</td>\n      <td>...</td>\n    </tr>\n    <tr>\n      <th>63067</th>\n      <td>False</td>\n      <td>False</td>\n      <td>False</td>\n      <td>False</td>\n      <td>False</td>\n      <td>False</td>\n      <td>False</td>\n      <td>False</td>\n      <td>False</td>\n      <td>False</td>\n      <td>...</td>\n      <td>False</td>\n      <td>False</td>\n      <td>False</td>\n      <td>False</td>\n      <td>False</td>\n      <td>False</td>\n      <td>False</td>\n      <td>False</td>\n      <td>False</td>\n      <td>False</td>\n    </tr>\n    <tr>\n      <th>63068</th>\n      <td>False</td>\n      <td>False</td>\n      <td>False</td>\n      <td>False</td>\n      <td>False</td>\n      <td>False</td>\n      <td>False</td>\n      <td>False</td>\n      <td>False</td>\n      <td>False</td>\n      <td>...</td>\n      <td>False</td>\n      <td>False</td>\n      <td>False</td>\n      <td>False</td>\n      <td>False</td>\n      <td>False</td>\n      <td>False</td>\n      <td>False</td>\n      <td>False</td>\n      <td>False</td>\n    </tr>\n    <tr>\n      <th>63069</th>\n      <td>False</td>\n      <td>False</td>\n      <td>False</td>\n      <td>False</td>\n      <td>False</td>\n      <td>False</td>\n      <td>False</td>\n      <td>False</td>\n      <td>False</td>\n      <td>False</td>\n      <td>...</td>\n      <td>False</td>\n      <td>False</td>\n      <td>False</td>\n      <td>False</td>\n      <td>False</td>\n      <td>False</td>\n      <td>False</td>\n      <td>False</td>\n      <td>False</td>\n      <td>False</td>\n    </tr>\n    <tr>\n      <th>63070</th>\n      <td>False</td>\n      <td>False</td>\n      <td>False</td>\n      <td>False</td>\n      <td>False</td>\n      <td>False</td>\n      <td>False</td>\n      <td>False</td>\n      <td>False</td>\n      <td>False</td>\n      <td>...</td>\n      <td>False</td>\n      <td>False</td>\n      <td>False</td>\n      <td>False</td>\n      <td>False</td>\n      <td>False</td>\n      <td>False</td>\n      <td>False</td>\n      <td>False</td>\n      <td>False</td>\n    </tr>\n    <tr>\n      <th>63071</th>\n      <td>False</td>\n      <td>False</td>\n      <td>False</td>\n      <td>False</td>\n      <td>False</td>\n      <td>False</td>\n      <td>False</td>\n      <td>False</td>\n      <td>False</td>\n      <td>False</td>\n      <td>...</td>\n      <td>False</td>\n      <td>False</td>\n      <td>False</td>\n      <td>False</td>\n      <td>False</td>\n      <td>False</td>\n      <td>False</td>\n      <td>False</td>\n      <td>False</td>\n      <td>False</td>\n    </tr>\n  </tbody>\n</table>\n<p>63072 rows × 78 columns</p>\n</div>"
     },
     "execution_count": 15,
     "metadata": {},
     "output_type": "execute_result"
    }
   ],
   "source": [
    "nulls"
   ],
   "metadata": {
    "collapsed": false
   }
  },
  {
   "cell_type": "code",
   "execution_count": 16,
   "outputs": [],
   "source": [
    "nulls = nulls.sum()"
   ],
   "metadata": {
    "collapsed": false
   }
  },
  {
   "cell_type": "code",
   "execution_count": 17,
   "outputs": [],
   "source": [
    "nulls = nulls[nulls > 0]"
   ],
   "metadata": {
    "collapsed": false
   }
  },
  {
   "cell_type": "code",
   "execution_count": 18,
   "outputs": [
    {
     "data": {
      "text/plain": "Series([], dtype: int64)"
     },
     "execution_count": 18,
     "metadata": {},
     "output_type": "execute_result"
    }
   ],
   "source": [
    "nulls"
   ],
   "metadata": {
    "collapsed": false
   }
  },
  {
   "cell_type": "code",
   "execution_count": 101,
   "outputs": [],
   "source": [
    "rr = RidgeClassifier(alpha=1)\n",
    "split = TimeSeriesSplit(n_splits=3)\n",
    "\n",
    "sfs = SequentialFeatureSelector(rr, n_features_to_select=15, direction='forward',cv=split)"
   ],
   "metadata": {
    "collapsed": false
   }
  },
  {
   "cell_type": "code",
   "execution_count": 102,
   "outputs": [],
   "source": [
    "removed_columns = ['season', 'date', 'won', 'target', 'team', 'team_opp']"
   ],
   "metadata": {
    "collapsed": false
   }
  },
  {
   "cell_type": "code",
   "execution_count": 103,
   "outputs": [],
   "source": [
    "selected_columns = df.columns[~df.columns.isin(removed_columns)]"
   ],
   "metadata": {
    "collapsed": false
   }
  },
  {
   "cell_type": "code",
   "execution_count": 104,
   "outputs": [],
   "source": [
    "scaler = MinMaxScaler()\n",
    "df[selected_columns] = scaler.fit_transform(df[selected_columns])"
   ],
   "metadata": {
    "collapsed": false
   }
  },
  {
   "cell_type": "code",
   "execution_count": 105,
   "outputs": [
    {
     "data": {
      "text/plain": "SequentialFeatureSelector(cv=TimeSeriesSplit(gap=0, max_train_size=None, n_splits=3, test_size=None),\n                          estimator=RidgeClassifier(alpha=1),\n                          n_features_to_select=15)",
      "text/html": "<style>#sk-container-id-4 {color: black;background-color: white;}#sk-container-id-4 pre{padding: 0;}#sk-container-id-4 div.sk-toggleable {background-color: white;}#sk-container-id-4 label.sk-toggleable__label {cursor: pointer;display: block;width: 100%;margin-bottom: 0;padding: 0.3em;box-sizing: border-box;text-align: center;}#sk-container-id-4 label.sk-toggleable__label-arrow:before {content: \"▸\";float: left;margin-right: 0.25em;color: #696969;}#sk-container-id-4 label.sk-toggleable__label-arrow:hover:before {color: black;}#sk-container-id-4 div.sk-estimator:hover label.sk-toggleable__label-arrow:before {color: black;}#sk-container-id-4 div.sk-toggleable__content {max-height: 0;max-width: 0;overflow: hidden;text-align: left;background-color: #f0f8ff;}#sk-container-id-4 div.sk-toggleable__content pre {margin: 0.2em;color: black;border-radius: 0.25em;background-color: #f0f8ff;}#sk-container-id-4 input.sk-toggleable__control:checked~div.sk-toggleable__content {max-height: 200px;max-width: 100%;overflow: auto;}#sk-container-id-4 input.sk-toggleable__control:checked~label.sk-toggleable__label-arrow:before {content: \"▾\";}#sk-container-id-4 div.sk-estimator input.sk-toggleable__control:checked~label.sk-toggleable__label {background-color: #d4ebff;}#sk-container-id-4 div.sk-label input.sk-toggleable__control:checked~label.sk-toggleable__label {background-color: #d4ebff;}#sk-container-id-4 input.sk-hidden--visually {border: 0;clip: rect(1px 1px 1px 1px);clip: rect(1px, 1px, 1px, 1px);height: 1px;margin: -1px;overflow: hidden;padding: 0;position: absolute;width: 1px;}#sk-container-id-4 div.sk-estimator {font-family: monospace;background-color: #f0f8ff;border: 1px dotted black;border-radius: 0.25em;box-sizing: border-box;margin-bottom: 0.5em;}#sk-container-id-4 div.sk-estimator:hover {background-color: #d4ebff;}#sk-container-id-4 div.sk-parallel-item::after {content: \"\";width: 100%;border-bottom: 1px solid gray;flex-grow: 1;}#sk-container-id-4 div.sk-label:hover label.sk-toggleable__label {background-color: #d4ebff;}#sk-container-id-4 div.sk-serial::before {content: \"\";position: absolute;border-left: 1px solid gray;box-sizing: border-box;top: 0;bottom: 0;left: 50%;z-index: 0;}#sk-container-id-4 div.sk-serial {display: flex;flex-direction: column;align-items: center;background-color: white;padding-right: 0.2em;padding-left: 0.2em;position: relative;}#sk-container-id-4 div.sk-item {position: relative;z-index: 1;}#sk-container-id-4 div.sk-parallel {display: flex;align-items: stretch;justify-content: center;background-color: white;position: relative;}#sk-container-id-4 div.sk-item::before, #sk-container-id-4 div.sk-parallel-item::before {content: \"\";position: absolute;border-left: 1px solid gray;box-sizing: border-box;top: 0;bottom: 0;left: 50%;z-index: -1;}#sk-container-id-4 div.sk-parallel-item {display: flex;flex-direction: column;z-index: 1;position: relative;background-color: white;}#sk-container-id-4 div.sk-parallel-item:first-child::after {align-self: flex-end;width: 50%;}#sk-container-id-4 div.sk-parallel-item:last-child::after {align-self: flex-start;width: 50%;}#sk-container-id-4 div.sk-parallel-item:only-child::after {width: 0;}#sk-container-id-4 div.sk-dashed-wrapped {border: 1px dashed gray;margin: 0 0.4em 0.5em 0.4em;box-sizing: border-box;padding-bottom: 0.4em;background-color: white;}#sk-container-id-4 div.sk-label label {font-family: monospace;font-weight: bold;display: inline-block;line-height: 1.2em;}#sk-container-id-4 div.sk-label-container {text-align: center;}#sk-container-id-4 div.sk-container {/* jupyter's `normalize.less` sets `[hidden] { display: none; }` but bootstrap.min.css set `[hidden] { display: none !important; }` so we also need the `!important` here to be able to override the default hidden behavior on the sphinx rendered scikit-learn.org. See: https://github.com/scikit-learn/scikit-learn/issues/21755 */display: inline-block !important;position: relative;}#sk-container-id-4 div.sk-text-repr-fallback {display: none;}</style><div id=\"sk-container-id-4\" class=\"sk-top-container\"><div class=\"sk-text-repr-fallback\"><pre>SequentialFeatureSelector(cv=TimeSeriesSplit(gap=0, max_train_size=None, n_splits=3, test_size=None),\n                          estimator=RidgeClassifier(alpha=1),\n                          n_features_to_select=15)</pre><b>In a Jupyter environment, please rerun this cell to show the HTML representation or trust the notebook. <br />On GitHub, the HTML representation is unable to render, please try loading this page with nbviewer.org.</b></div><div class=\"sk-container\" hidden><div class=\"sk-item sk-dashed-wrapped\"><div class=\"sk-label-container\"><div class=\"sk-label sk-toggleable\"><input class=\"sk-toggleable__control sk-hidden--visually\" id=\"sk-estimator-id-8\" type=\"checkbox\" ><label for=\"sk-estimator-id-8\" class=\"sk-toggleable__label sk-toggleable__label-arrow\">SequentialFeatureSelector</label><div class=\"sk-toggleable__content\"><pre>SequentialFeatureSelector(cv=TimeSeriesSplit(gap=0, max_train_size=None, n_splits=3, test_size=None),\n                          estimator=RidgeClassifier(alpha=1),\n                          n_features_to_select=15)</pre></div></div></div><div class=\"sk-parallel\"><div class=\"sk-parallel-item\"><div class=\"sk-item\"><div class=\"sk-label-container\"><div class=\"sk-label sk-toggleable\"><input class=\"sk-toggleable__control sk-hidden--visually\" id=\"sk-estimator-id-9\" type=\"checkbox\" ><label for=\"sk-estimator-id-9\" class=\"sk-toggleable__label sk-toggleable__label-arrow\">estimator: RidgeClassifier</label><div class=\"sk-toggleable__content\"><pre>RidgeClassifier(alpha=1)</pre></div></div></div><div class=\"sk-serial\"><div class=\"sk-item\"><div class=\"sk-estimator sk-toggleable\"><input class=\"sk-toggleable__control sk-hidden--visually\" id=\"sk-estimator-id-10\" type=\"checkbox\" ><label for=\"sk-estimator-id-10\" class=\"sk-toggleable__label sk-toggleable__label-arrow\">RidgeClassifier</label><div class=\"sk-toggleable__content\"><pre>RidgeClassifier(alpha=1)</pre></div></div></div></div></div></div></div></div></div></div>"
     },
     "execution_count": 105,
     "metadata": {},
     "output_type": "execute_result"
    }
   ],
   "source": [
    "sfs.fit(df[selected_columns], df['target'])"
   ],
   "metadata": {
    "collapsed": false
   }
  },
  {
   "cell_type": "code",
   "execution_count": 136,
   "outputs": [],
   "source": [
    "predictors = list(selected_columns[sfs.get_support()])"
   ],
   "metadata": {
    "collapsed": false
   }
  },
  {
   "cell_type": "code",
   "execution_count": 107,
   "outputs": [
    {
     "data": {
      "text/plain": "['pts',\n 'orb%',\n 'fg%',\n 'usg%',\n '+/-',\n '3p%',\n 'ts%',\n 'total',\n 'ast_opp',\n 'pts_opp',\n 'drb%_opp',\n 'ft%_opp',\n 'usg%_opp',\n '3p%_opp',\n 'total_opp']"
     },
     "execution_count": 107,
     "metadata": {},
     "output_type": "execute_result"
    }
   ],
   "source": [
    "predictors"
   ],
   "metadata": {
    "collapsed": false
   }
  },
  {
   "cell_type": "code",
   "execution_count": 108,
   "outputs": [],
   "source": [
    "def backtest(data, model, predictors, start=2, step=1):\n",
    "    all_predictions = []\n",
    "\n",
    "    seasons = sorted(data['season'].unique())\n",
    "\n",
    "    for i in range(start, len(seasons), step):\n",
    "        season = seasons[i]\n",
    "\n",
    "        train = data[data['season'] < season]\n",
    "        test = data[data['season'] == season]\n",
    "\n",
    "        model.fit(train[predictors], train['target'])\n",
    "\n",
    "        preds = model.predict(test[predictors])\n",
    "        preds = pd.Series(preds, index=test.index)\n",
    "\n",
    "        combined = pd.concat([test['target'], preds], axis=1)\n",
    "        combined.columns = ['actual', 'prediction']\n",
    "\n",
    "        all_predictions.append(combined)\n",
    "    return pd.concat(all_predictions)"
   ],
   "metadata": {
    "collapsed": false
   }
  },
  {
   "cell_type": "code",
   "execution_count": 109,
   "outputs": [],
   "source": [
    "predictions = backtest(df, rr, predictors)"
   ],
   "metadata": {
    "collapsed": false
   }
  },
  {
   "cell_type": "code",
   "execution_count": 110,
   "outputs": [
    {
     "data": {
      "text/plain": "       actual  prediction\n4124        1           1\n4125        0           0\n4126        0           1\n4127        0           0\n4128        1           0\n...       ...         ...\n52957       1           1\n52958       1           1\n52959       0           0\n52960       2           1\n52961       2           0\n\n[48838 rows x 2 columns]",
      "text/html": "<div>\n<style scoped>\n    .dataframe tbody tr th:only-of-type {\n        vertical-align: middle;\n    }\n\n    .dataframe tbody tr th {\n        vertical-align: top;\n    }\n\n    .dataframe thead th {\n        text-align: right;\n    }\n</style>\n<table border=\"1\" class=\"dataframe\">\n  <thead>\n    <tr style=\"text-align: right;\">\n      <th></th>\n      <th>actual</th>\n      <th>prediction</th>\n    </tr>\n  </thead>\n  <tbody>\n    <tr>\n      <th>4124</th>\n      <td>1</td>\n      <td>1</td>\n    </tr>\n    <tr>\n      <th>4125</th>\n      <td>0</td>\n      <td>0</td>\n    </tr>\n    <tr>\n      <th>4126</th>\n      <td>0</td>\n      <td>1</td>\n    </tr>\n    <tr>\n      <th>4127</th>\n      <td>0</td>\n      <td>0</td>\n    </tr>\n    <tr>\n      <th>4128</th>\n      <td>1</td>\n      <td>0</td>\n    </tr>\n    <tr>\n      <th>...</th>\n      <td>...</td>\n      <td>...</td>\n    </tr>\n    <tr>\n      <th>52957</th>\n      <td>1</td>\n      <td>1</td>\n    </tr>\n    <tr>\n      <th>52958</th>\n      <td>1</td>\n      <td>1</td>\n    </tr>\n    <tr>\n      <th>52959</th>\n      <td>0</td>\n      <td>0</td>\n    </tr>\n    <tr>\n      <th>52960</th>\n      <td>2</td>\n      <td>1</td>\n    </tr>\n    <tr>\n      <th>52961</th>\n      <td>2</td>\n      <td>0</td>\n    </tr>\n  </tbody>\n</table>\n<p>48838 rows × 2 columns</p>\n</div>"
     },
     "execution_count": 110,
     "metadata": {},
     "output_type": "execute_result"
    }
   ],
   "source": [
    "predictions"
   ],
   "metadata": {
    "collapsed": false
   }
  },
  {
   "cell_type": "code",
   "execution_count": 111,
   "outputs": [
    {
     "data": {
      "text/plain": "0.5445157060016802"
     },
     "execution_count": 111,
     "metadata": {},
     "output_type": "execute_result"
    }
   ],
   "source": [
    "predictions = predictions[predictions['actual'] != 2]\n",
    "accuracy_score(predictions['actual'], predictions['prediction'])"
   ],
   "metadata": {
    "collapsed": false
   }
  },
  {
   "cell_type": "code",
   "execution_count": 112,
   "outputs": [
    {
     "data": {
      "text/plain": "home\n0.0    0.408935\n1.0    0.591065\ndtype: float64"
     },
     "execution_count": 112,
     "metadata": {},
     "output_type": "execute_result"
    }
   ],
   "source": [
    "df.groupby('home').apply(lambda x: x[x['won'] == 1].shape[0] / x.shape[0])"
   ],
   "metadata": {
    "collapsed": false
   }
  },
  {
   "cell_type": "code",
   "execution_count": 113,
   "outputs": [],
   "source": [
    "df_rolling = df[list(selected_columns) + ['won', 'team', 'season']]"
   ],
   "metadata": {
    "collapsed": false
   }
  },
  {
   "cell_type": "code",
   "execution_count": 114,
   "outputs": [
    {
     "data": {
      "text/plain": "           stl%      blk%   blk       3pa      3par       orb      tov%  \\\n0      0.514768  0.000000  0.00  0.028986  0.038235  0.342105  0.548507   \n1      0.523207  0.141089  0.15  0.173913  0.207353  0.394737  0.380597   \n2      0.253165  0.150990  0.20  0.304348  0.316176  0.526316  0.167910   \n3      0.101266  0.131188  0.20  0.246377  0.297059  0.315789  0.298507   \n4      0.599156  0.185644  0.30  0.159420  0.189706  0.473684  0.649254   \n...         ...       ...   ...       ...       ...       ...       ...   \n52957  0.341772  0.116337  0.10  0.391304  0.530882  0.236842  0.458955   \n52958  0.139241  0.217822  0.25  0.246377  0.313235  0.342105  0.425373   \n52959  0.324895  0.118812  0.15  0.492754  0.541176  0.263158  0.104478   \n52960  0.523207  0.326733  0.35  0.391304  0.502941  0.131579  0.201493   \n52961  0.097046  0.146040  0.15  0.347826  0.454412  0.210526  0.481343   \n\n             3p       ast      ortg  ...  +/-_opp  efg%_opp   fta_opp  \\\n0      0.034483  0.239130  0.367041  ...      0.0  0.436720  0.666667   \n1      0.206897  0.347826  0.522472  ...      0.0  0.655971  0.650794   \n2      0.206897  0.434783  0.535581  ...      0.0  0.367201  0.222222   \n3      0.206897  0.369565  0.468165  ...      0.0  0.354724  0.190476   \n4      0.137931  0.434783  0.468165  ...      0.0  0.269162  0.301587   \n...         ...       ...       ...  ...      ...       ...       ...   \n52957  0.379310  0.413043  0.672285  ...      0.0  0.645276  0.301587   \n52958  0.172414  0.521739  0.635768  ...      0.0  0.347594  0.285714   \n52959  0.379310  0.347826  0.480337  ...      0.0  0.552585  0.412698   \n52960  0.482759  0.478261  0.649813  ...      0.0  0.474153  0.301587   \n52961  0.275862  0.413043  0.512172  ...      0.0  0.620321  0.317460   \n\n       3p%_opp   ts%_opp  total_opp  home_opp    won  team  season  \n0        0.200  0.522727   0.401575       1.0  False   CLE    1999  \n1        0.500  0.740530   0.433071       1.0  False   CHI    1999  \n2        0.333  0.369318   0.291339       0.0   True   SEA    1999  \n3        0.273  0.318182   0.338583       1.0  False   DAL    1999  \n4        0.250  0.219697   0.267717       0.0   True   SAS    1999  \n...        ...       ...        ...       ...    ...   ...     ...  \n52957    0.486  0.679924   0.488189       0.0  False   DEN    2023  \n52958    0.314  0.356061   0.354331       1.0   True   DEN    2023  \n52959    0.278  0.592803   0.472441       0.0  False   MIA    2023  \n52960    0.320  0.505682   0.362205       1.0   True   DEN    2023  \n52961    0.500  0.628788   0.464567       0.0  False   MIA    2023  \n\n[52962 rows x 75 columns]",
      "text/html": "<div>\n<style scoped>\n    .dataframe tbody tr th:only-of-type {\n        vertical-align: middle;\n    }\n\n    .dataframe tbody tr th {\n        vertical-align: top;\n    }\n\n    .dataframe thead th {\n        text-align: right;\n    }\n</style>\n<table border=\"1\" class=\"dataframe\">\n  <thead>\n    <tr style=\"text-align: right;\">\n      <th></th>\n      <th>stl%</th>\n      <th>blk%</th>\n      <th>blk</th>\n      <th>3pa</th>\n      <th>3par</th>\n      <th>orb</th>\n      <th>tov%</th>\n      <th>3p</th>\n      <th>ast</th>\n      <th>ortg</th>\n      <th>...</th>\n      <th>+/-_opp</th>\n      <th>efg%_opp</th>\n      <th>fta_opp</th>\n      <th>3p%_opp</th>\n      <th>ts%_opp</th>\n      <th>total_opp</th>\n      <th>home_opp</th>\n      <th>won</th>\n      <th>team</th>\n      <th>season</th>\n    </tr>\n  </thead>\n  <tbody>\n    <tr>\n      <th>0</th>\n      <td>0.514768</td>\n      <td>0.000000</td>\n      <td>0.00</td>\n      <td>0.028986</td>\n      <td>0.038235</td>\n      <td>0.342105</td>\n      <td>0.548507</td>\n      <td>0.034483</td>\n      <td>0.239130</td>\n      <td>0.367041</td>\n      <td>...</td>\n      <td>0.0</td>\n      <td>0.436720</td>\n      <td>0.666667</td>\n      <td>0.200</td>\n      <td>0.522727</td>\n      <td>0.401575</td>\n      <td>1.0</td>\n      <td>False</td>\n      <td>CLE</td>\n      <td>1999</td>\n    </tr>\n    <tr>\n      <th>1</th>\n      <td>0.523207</td>\n      <td>0.141089</td>\n      <td>0.15</td>\n      <td>0.173913</td>\n      <td>0.207353</td>\n      <td>0.394737</td>\n      <td>0.380597</td>\n      <td>0.206897</td>\n      <td>0.347826</td>\n      <td>0.522472</td>\n      <td>...</td>\n      <td>0.0</td>\n      <td>0.655971</td>\n      <td>0.650794</td>\n      <td>0.500</td>\n      <td>0.740530</td>\n      <td>0.433071</td>\n      <td>1.0</td>\n      <td>False</td>\n      <td>CHI</td>\n      <td>1999</td>\n    </tr>\n    <tr>\n      <th>2</th>\n      <td>0.253165</td>\n      <td>0.150990</td>\n      <td>0.20</td>\n      <td>0.304348</td>\n      <td>0.316176</td>\n      <td>0.526316</td>\n      <td>0.167910</td>\n      <td>0.206897</td>\n      <td>0.434783</td>\n      <td>0.535581</td>\n      <td>...</td>\n      <td>0.0</td>\n      <td>0.367201</td>\n      <td>0.222222</td>\n      <td>0.333</td>\n      <td>0.369318</td>\n      <td>0.291339</td>\n      <td>0.0</td>\n      <td>True</td>\n      <td>SEA</td>\n      <td>1999</td>\n    </tr>\n    <tr>\n      <th>3</th>\n      <td>0.101266</td>\n      <td>0.131188</td>\n      <td>0.20</td>\n      <td>0.246377</td>\n      <td>0.297059</td>\n      <td>0.315789</td>\n      <td>0.298507</td>\n      <td>0.206897</td>\n      <td>0.369565</td>\n      <td>0.468165</td>\n      <td>...</td>\n      <td>0.0</td>\n      <td>0.354724</td>\n      <td>0.190476</td>\n      <td>0.273</td>\n      <td>0.318182</td>\n      <td>0.338583</td>\n      <td>1.0</td>\n      <td>False</td>\n      <td>DAL</td>\n      <td>1999</td>\n    </tr>\n    <tr>\n      <th>4</th>\n      <td>0.599156</td>\n      <td>0.185644</td>\n      <td>0.30</td>\n      <td>0.159420</td>\n      <td>0.189706</td>\n      <td>0.473684</td>\n      <td>0.649254</td>\n      <td>0.137931</td>\n      <td>0.434783</td>\n      <td>0.468165</td>\n      <td>...</td>\n      <td>0.0</td>\n      <td>0.269162</td>\n      <td>0.301587</td>\n      <td>0.250</td>\n      <td>0.219697</td>\n      <td>0.267717</td>\n      <td>0.0</td>\n      <td>True</td>\n      <td>SAS</td>\n      <td>1999</td>\n    </tr>\n    <tr>\n      <th>...</th>\n      <td>...</td>\n      <td>...</td>\n      <td>...</td>\n      <td>...</td>\n      <td>...</td>\n      <td>...</td>\n      <td>...</td>\n      <td>...</td>\n      <td>...</td>\n      <td>...</td>\n      <td>...</td>\n      <td>...</td>\n      <td>...</td>\n      <td>...</td>\n      <td>...</td>\n      <td>...</td>\n      <td>...</td>\n      <td>...</td>\n      <td>...</td>\n      <td>...</td>\n      <td>...</td>\n    </tr>\n    <tr>\n      <th>52957</th>\n      <td>0.341772</td>\n      <td>0.116337</td>\n      <td>0.10</td>\n      <td>0.391304</td>\n      <td>0.530882</td>\n      <td>0.236842</td>\n      <td>0.458955</td>\n      <td>0.379310</td>\n      <td>0.413043</td>\n      <td>0.672285</td>\n      <td>...</td>\n      <td>0.0</td>\n      <td>0.645276</td>\n      <td>0.301587</td>\n      <td>0.486</td>\n      <td>0.679924</td>\n      <td>0.488189</td>\n      <td>0.0</td>\n      <td>False</td>\n      <td>DEN</td>\n      <td>2023</td>\n    </tr>\n    <tr>\n      <th>52958</th>\n      <td>0.139241</td>\n      <td>0.217822</td>\n      <td>0.25</td>\n      <td>0.246377</td>\n      <td>0.313235</td>\n      <td>0.342105</td>\n      <td>0.425373</td>\n      <td>0.172414</td>\n      <td>0.521739</td>\n      <td>0.635768</td>\n      <td>...</td>\n      <td>0.0</td>\n      <td>0.347594</td>\n      <td>0.285714</td>\n      <td>0.314</td>\n      <td>0.356061</td>\n      <td>0.354331</td>\n      <td>1.0</td>\n      <td>True</td>\n      <td>DEN</td>\n      <td>2023</td>\n    </tr>\n    <tr>\n      <th>52959</th>\n      <td>0.324895</td>\n      <td>0.118812</td>\n      <td>0.15</td>\n      <td>0.492754</td>\n      <td>0.541176</td>\n      <td>0.263158</td>\n      <td>0.104478</td>\n      <td>0.379310</td>\n      <td>0.347826</td>\n      <td>0.480337</td>\n      <td>...</td>\n      <td>0.0</td>\n      <td>0.552585</td>\n      <td>0.412698</td>\n      <td>0.278</td>\n      <td>0.592803</td>\n      <td>0.472441</td>\n      <td>0.0</td>\n      <td>False</td>\n      <td>MIA</td>\n      <td>2023</td>\n    </tr>\n    <tr>\n      <th>52960</th>\n      <td>0.523207</td>\n      <td>0.326733</td>\n      <td>0.35</td>\n      <td>0.391304</td>\n      <td>0.502941</td>\n      <td>0.131579</td>\n      <td>0.201493</td>\n      <td>0.482759</td>\n      <td>0.478261</td>\n      <td>0.649813</td>\n      <td>...</td>\n      <td>0.0</td>\n      <td>0.474153</td>\n      <td>0.301587</td>\n      <td>0.320</td>\n      <td>0.505682</td>\n      <td>0.362205</td>\n      <td>1.0</td>\n      <td>True</td>\n      <td>DEN</td>\n      <td>2023</td>\n    </tr>\n    <tr>\n      <th>52961</th>\n      <td>0.097046</td>\n      <td>0.146040</td>\n      <td>0.15</td>\n      <td>0.347826</td>\n      <td>0.454412</td>\n      <td>0.210526</td>\n      <td>0.481343</td>\n      <td>0.275862</td>\n      <td>0.413043</td>\n      <td>0.512172</td>\n      <td>...</td>\n      <td>0.0</td>\n      <td>0.620321</td>\n      <td>0.317460</td>\n      <td>0.500</td>\n      <td>0.628788</td>\n      <td>0.464567</td>\n      <td>0.0</td>\n      <td>False</td>\n      <td>MIA</td>\n      <td>2023</td>\n    </tr>\n  </tbody>\n</table>\n<p>52962 rows × 75 columns</p>\n</div>"
     },
     "execution_count": 114,
     "metadata": {},
     "output_type": "execute_result"
    }
   ],
   "source": [
    "df_rolling"
   ],
   "metadata": {
    "collapsed": false
   }
  },
  {
   "cell_type": "code",
   "execution_count": 115,
   "outputs": [],
   "source": [
    "def find_team_averages(team):\n",
    "    rolling = team.rolling(20).mean()\n",
    "    return rolling"
   ],
   "metadata": {
    "collapsed": false
   }
  },
  {
   "cell_type": "code",
   "execution_count": 116,
   "outputs": [],
   "source": [
    "df_rolling = df_rolling.groupby(['team', 'season'], group_keys=False).apply(find_team_averages)"
   ],
   "metadata": {
    "collapsed": false
   }
  },
  {
   "cell_type": "code",
   "execution_count": 117,
   "outputs": [],
   "source": [
    "rolling_cols = [f'{col}_10' for col in df_rolling.columns]\n",
    "df_rolling.columns = rolling_cols\n",
    "\n",
    "df = pd.concat([df, df_rolling], axis=1)"
   ],
   "metadata": {
    "collapsed": false
   }
  },
  {
   "cell_type": "code",
   "execution_count": 118,
   "outputs": [],
   "source": [
    "df = df.dropna()"
   ],
   "metadata": {
    "collapsed": false
   }
  },
  {
   "cell_type": "code",
   "execution_count": 119,
   "outputs": [],
   "source": [
    "def shift_col(team, col_name):\n",
    "    next_col = team[col_name].shift(-1)\n",
    "    return next_col"
   ],
   "metadata": {
    "collapsed": false
   }
  },
  {
   "cell_type": "code",
   "execution_count": 120,
   "outputs": [],
   "source": [
    "def add_col(df, col_name):\n",
    "    return df.groupby('team', group_keys=False).apply(lambda x: shift_col(x, col_name))"
   ],
   "metadata": {
    "collapsed": false
   }
  },
  {
   "cell_type": "code",
   "execution_count": 121,
   "outputs": [],
   "source": [
    "df['home_next'] = add_col(df, 'home')\n",
    "df['team_opp_next'] = add_col(df, 'team_opp')\n",
    "df['date_next'] = add_col(df, 'date')"
   ],
   "metadata": {
    "collapsed": false
   }
  },
  {
   "cell_type": "code",
   "execution_count": 122,
   "outputs": [],
   "source": [
    "df1 = df.copy()"
   ],
   "metadata": {
    "collapsed": false
   }
  },
  {
   "cell_type": "code",
   "execution_count": 123,
   "outputs": [],
   "source": [
    "full = df1.merge(\n",
    "    df1[rolling_cols + ['team_opp_next', 'date_next', 'team']],\n",
    "    left_on=['team', 'date_next'],\n",
    "    right_on=['team_opp_next', 'date_next']\n",
    ")"
   ],
   "metadata": {
    "collapsed": false
   }
  },
  {
   "cell_type": "code",
   "execution_count": 124,
   "outputs": [
    {
     "data": {
      "text/plain": "      team_x team_opp_next_x team_y team_opp_next_y   date_next\n0        DAL             ORL    ORL             DAL  1999-03-11\n1        ORL             DAL    DAL             ORL  1999-03-11\n2        DEN             SAS    SAS             DEN  1999-03-13\n3        DAL             VAN    VAN             DAL  1999-03-13\n4        ORL             GSW    GSW             ORL  1999-03-13\n...      ...             ...    ...             ...         ...\n40633    DEN             MIA    MIA             DEN  2023-06-04\n40634    MIA             DEN    DEN             MIA  2023-06-07\n40635    DEN             MIA    MIA             DEN  2023-06-07\n40636    DEN             MIA    MIA             DEN  2023-06-09\n40637    MIA             DEN    DEN             MIA  2023-06-09\n\n[40638 rows x 5 columns]",
      "text/html": "<div>\n<style scoped>\n    .dataframe tbody tr th:only-of-type {\n        vertical-align: middle;\n    }\n\n    .dataframe tbody tr th {\n        vertical-align: top;\n    }\n\n    .dataframe thead th {\n        text-align: right;\n    }\n</style>\n<table border=\"1\" class=\"dataframe\">\n  <thead>\n    <tr style=\"text-align: right;\">\n      <th></th>\n      <th>team_x</th>\n      <th>team_opp_next_x</th>\n      <th>team_y</th>\n      <th>team_opp_next_y</th>\n      <th>date_next</th>\n    </tr>\n  </thead>\n  <tbody>\n    <tr>\n      <th>0</th>\n      <td>DAL</td>\n      <td>ORL</td>\n      <td>ORL</td>\n      <td>DAL</td>\n      <td>1999-03-11</td>\n    </tr>\n    <tr>\n      <th>1</th>\n      <td>ORL</td>\n      <td>DAL</td>\n      <td>DAL</td>\n      <td>ORL</td>\n      <td>1999-03-11</td>\n    </tr>\n    <tr>\n      <th>2</th>\n      <td>DEN</td>\n      <td>SAS</td>\n      <td>SAS</td>\n      <td>DEN</td>\n      <td>1999-03-13</td>\n    </tr>\n    <tr>\n      <th>3</th>\n      <td>DAL</td>\n      <td>VAN</td>\n      <td>VAN</td>\n      <td>DAL</td>\n      <td>1999-03-13</td>\n    </tr>\n    <tr>\n      <th>4</th>\n      <td>ORL</td>\n      <td>GSW</td>\n      <td>GSW</td>\n      <td>ORL</td>\n      <td>1999-03-13</td>\n    </tr>\n    <tr>\n      <th>...</th>\n      <td>...</td>\n      <td>...</td>\n      <td>...</td>\n      <td>...</td>\n      <td>...</td>\n    </tr>\n    <tr>\n      <th>40633</th>\n      <td>DEN</td>\n      <td>MIA</td>\n      <td>MIA</td>\n      <td>DEN</td>\n      <td>2023-06-04</td>\n    </tr>\n    <tr>\n      <th>40634</th>\n      <td>MIA</td>\n      <td>DEN</td>\n      <td>DEN</td>\n      <td>MIA</td>\n      <td>2023-06-07</td>\n    </tr>\n    <tr>\n      <th>40635</th>\n      <td>DEN</td>\n      <td>MIA</td>\n      <td>MIA</td>\n      <td>DEN</td>\n      <td>2023-06-07</td>\n    </tr>\n    <tr>\n      <th>40636</th>\n      <td>DEN</td>\n      <td>MIA</td>\n      <td>MIA</td>\n      <td>DEN</td>\n      <td>2023-06-09</td>\n    </tr>\n    <tr>\n      <th>40637</th>\n      <td>MIA</td>\n      <td>DEN</td>\n      <td>DEN</td>\n      <td>MIA</td>\n      <td>2023-06-09</td>\n    </tr>\n  </tbody>\n</table>\n<p>40638 rows × 5 columns</p>\n</div>"
     },
     "execution_count": 124,
     "metadata": {},
     "output_type": "execute_result"
    }
   ],
   "source": [
    "full[['team_x', 'team_opp_next_x', 'team_y', 'team_opp_next_y', 'date_next']]"
   ],
   "metadata": {
    "collapsed": false
   }
  },
  {
   "cell_type": "code",
   "execution_count": 125,
   "outputs": [],
   "source": [
    "removed_columns = list(full.columns[full.dtypes == 'object']) + removed_columns"
   ],
   "metadata": {
    "collapsed": false
   }
  },
  {
   "cell_type": "code",
   "execution_count": 126,
   "outputs": [
    {
     "data": {
      "text/plain": "['team_x',\n 'team_opp',\n 'date',\n 'team_opp_next_x',\n 'date_next',\n 'team_opp_next_y',\n 'team_y',\n 'season',\n 'date',\n 'won',\n 'target',\n 'team',\n 'team_opp']"
     },
     "execution_count": 126,
     "metadata": {},
     "output_type": "execute_result"
    }
   ],
   "source": [
    "removed_columns"
   ],
   "metadata": {
    "collapsed": false
   }
  },
  {
   "cell_type": "code",
   "execution_count": 127,
   "outputs": [],
   "source": [
    "selected_columns = full.columns[~full.columns.isin(removed_columns)]"
   ],
   "metadata": {
    "collapsed": false
   }
  },
  {
   "cell_type": "code",
   "execution_count": 128,
   "outputs": [
    {
     "data": {
      "text/plain": "SequentialFeatureSelector(cv=TimeSeriesSplit(gap=0, max_train_size=None, n_splits=3, test_size=None),\n                          estimator=RidgeClassifier(alpha=1),\n                          n_features_to_select=15)",
      "text/html": "<style>#sk-container-id-5 {color: black;background-color: white;}#sk-container-id-5 pre{padding: 0;}#sk-container-id-5 div.sk-toggleable {background-color: white;}#sk-container-id-5 label.sk-toggleable__label {cursor: pointer;display: block;width: 100%;margin-bottom: 0;padding: 0.3em;box-sizing: border-box;text-align: center;}#sk-container-id-5 label.sk-toggleable__label-arrow:before {content: \"▸\";float: left;margin-right: 0.25em;color: #696969;}#sk-container-id-5 label.sk-toggleable__label-arrow:hover:before {color: black;}#sk-container-id-5 div.sk-estimator:hover label.sk-toggleable__label-arrow:before {color: black;}#sk-container-id-5 div.sk-toggleable__content {max-height: 0;max-width: 0;overflow: hidden;text-align: left;background-color: #f0f8ff;}#sk-container-id-5 div.sk-toggleable__content pre {margin: 0.2em;color: black;border-radius: 0.25em;background-color: #f0f8ff;}#sk-container-id-5 input.sk-toggleable__control:checked~div.sk-toggleable__content {max-height: 200px;max-width: 100%;overflow: auto;}#sk-container-id-5 input.sk-toggleable__control:checked~label.sk-toggleable__label-arrow:before {content: \"▾\";}#sk-container-id-5 div.sk-estimator input.sk-toggleable__control:checked~label.sk-toggleable__label {background-color: #d4ebff;}#sk-container-id-5 div.sk-label input.sk-toggleable__control:checked~label.sk-toggleable__label {background-color: #d4ebff;}#sk-container-id-5 input.sk-hidden--visually {border: 0;clip: rect(1px 1px 1px 1px);clip: rect(1px, 1px, 1px, 1px);height: 1px;margin: -1px;overflow: hidden;padding: 0;position: absolute;width: 1px;}#sk-container-id-5 div.sk-estimator {font-family: monospace;background-color: #f0f8ff;border: 1px dotted black;border-radius: 0.25em;box-sizing: border-box;margin-bottom: 0.5em;}#sk-container-id-5 div.sk-estimator:hover {background-color: #d4ebff;}#sk-container-id-5 div.sk-parallel-item::after {content: \"\";width: 100%;border-bottom: 1px solid gray;flex-grow: 1;}#sk-container-id-5 div.sk-label:hover label.sk-toggleable__label {background-color: #d4ebff;}#sk-container-id-5 div.sk-serial::before {content: \"\";position: absolute;border-left: 1px solid gray;box-sizing: border-box;top: 0;bottom: 0;left: 50%;z-index: 0;}#sk-container-id-5 div.sk-serial {display: flex;flex-direction: column;align-items: center;background-color: white;padding-right: 0.2em;padding-left: 0.2em;position: relative;}#sk-container-id-5 div.sk-item {position: relative;z-index: 1;}#sk-container-id-5 div.sk-parallel {display: flex;align-items: stretch;justify-content: center;background-color: white;position: relative;}#sk-container-id-5 div.sk-item::before, #sk-container-id-5 div.sk-parallel-item::before {content: \"\";position: absolute;border-left: 1px solid gray;box-sizing: border-box;top: 0;bottom: 0;left: 50%;z-index: -1;}#sk-container-id-5 div.sk-parallel-item {display: flex;flex-direction: column;z-index: 1;position: relative;background-color: white;}#sk-container-id-5 div.sk-parallel-item:first-child::after {align-self: flex-end;width: 50%;}#sk-container-id-5 div.sk-parallel-item:last-child::after {align-self: flex-start;width: 50%;}#sk-container-id-5 div.sk-parallel-item:only-child::after {width: 0;}#sk-container-id-5 div.sk-dashed-wrapped {border: 1px dashed gray;margin: 0 0.4em 0.5em 0.4em;box-sizing: border-box;padding-bottom: 0.4em;background-color: white;}#sk-container-id-5 div.sk-label label {font-family: monospace;font-weight: bold;display: inline-block;line-height: 1.2em;}#sk-container-id-5 div.sk-label-container {text-align: center;}#sk-container-id-5 div.sk-container {/* jupyter's `normalize.less` sets `[hidden] { display: none; }` but bootstrap.min.css set `[hidden] { display: none !important; }` so we also need the `!important` here to be able to override the default hidden behavior on the sphinx rendered scikit-learn.org. See: https://github.com/scikit-learn/scikit-learn/issues/21755 */display: inline-block !important;position: relative;}#sk-container-id-5 div.sk-text-repr-fallback {display: none;}</style><div id=\"sk-container-id-5\" class=\"sk-top-container\"><div class=\"sk-text-repr-fallback\"><pre>SequentialFeatureSelector(cv=TimeSeriesSplit(gap=0, max_train_size=None, n_splits=3, test_size=None),\n                          estimator=RidgeClassifier(alpha=1),\n                          n_features_to_select=15)</pre><b>In a Jupyter environment, please rerun this cell to show the HTML representation or trust the notebook. <br />On GitHub, the HTML representation is unable to render, please try loading this page with nbviewer.org.</b></div><div class=\"sk-container\" hidden><div class=\"sk-item sk-dashed-wrapped\"><div class=\"sk-label-container\"><div class=\"sk-label sk-toggleable\"><input class=\"sk-toggleable__control sk-hidden--visually\" id=\"sk-estimator-id-11\" type=\"checkbox\" ><label for=\"sk-estimator-id-11\" class=\"sk-toggleable__label sk-toggleable__label-arrow\">SequentialFeatureSelector</label><div class=\"sk-toggleable__content\"><pre>SequentialFeatureSelector(cv=TimeSeriesSplit(gap=0, max_train_size=None, n_splits=3, test_size=None),\n                          estimator=RidgeClassifier(alpha=1),\n                          n_features_to_select=15)</pre></div></div></div><div class=\"sk-parallel\"><div class=\"sk-parallel-item\"><div class=\"sk-item\"><div class=\"sk-label-container\"><div class=\"sk-label sk-toggleable\"><input class=\"sk-toggleable__control sk-hidden--visually\" id=\"sk-estimator-id-12\" type=\"checkbox\" ><label for=\"sk-estimator-id-12\" class=\"sk-toggleable__label sk-toggleable__label-arrow\">estimator: RidgeClassifier</label><div class=\"sk-toggleable__content\"><pre>RidgeClassifier(alpha=1)</pre></div></div></div><div class=\"sk-serial\"><div class=\"sk-item\"><div class=\"sk-estimator sk-toggleable\"><input class=\"sk-toggleable__control sk-hidden--visually\" id=\"sk-estimator-id-13\" type=\"checkbox\" ><label for=\"sk-estimator-id-13\" class=\"sk-toggleable__label sk-toggleable__label-arrow\">RidgeClassifier</label><div class=\"sk-toggleable__content\"><pre>RidgeClassifier(alpha=1)</pre></div></div></div></div></div></div></div></div></div></div>"
     },
     "execution_count": 128,
     "metadata": {},
     "output_type": "execute_result"
    }
   ],
   "source": [
    "sfs.fit(full[selected_columns], full['target'])"
   ],
   "metadata": {
    "collapsed": false
   }
  },
  {
   "cell_type": "code",
   "execution_count": 129,
   "outputs": [],
   "source": [
    "predictors = list(selected_columns[sfs.get_support()])"
   ],
   "metadata": {
    "collapsed": false
   }
  },
  {
   "cell_type": "code",
   "execution_count": 130,
   "outputs": [
    {
     "data": {
      "text/plain": "['stl%',\n 'mp',\n 'usg%',\n '+/-',\n 'mp_opp',\n 'fg_opp',\n 'usg%_opp',\n '+/-_opp',\n '3p%_opp',\n 'ts%_opp',\n 'ft%_10_x',\n 'won_10_x',\n 'home_next',\n 'orb_opp_10_y',\n 'won_10_y']"
     },
     "execution_count": 130,
     "metadata": {},
     "output_type": "execute_result"
    }
   ],
   "source": [
    "predictors"
   ],
   "metadata": {
    "collapsed": false
   }
  },
  {
   "cell_type": "code",
   "execution_count": 131,
   "outputs": [],
   "source": [
    "predictions = backtest(full, rr, predictors)"
   ],
   "metadata": {
    "collapsed": false
   }
  },
  {
   "cell_type": "code",
   "execution_count": 132,
   "outputs": [
    {
     "data": {
      "text/plain": "0.6550286745964317"
     },
     "execution_count": 132,
     "metadata": {},
     "output_type": "execute_result"
    }
   ],
   "source": [
    "accuracy_score(predictions['actual'], predictions['prediction'])"
   ],
   "metadata": {
    "collapsed": false
   }
  },
  {
   "cell_type": "code",
   "execution_count": 134,
   "outputs": [
    {
     "data": {
      "text/plain": "home\n0.0    0.408570\n1.0    0.591997\ndtype: float64"
     },
     "execution_count": 134,
     "metadata": {},
     "output_type": "execute_result"
    }
   ],
   "source": [
    "df1.groupby('home').apply(lambda x: x[x['won'] == 1].shape[0] / x.shape[0])"
   ],
   "metadata": {
    "collapsed": false
   }
  },
  {
   "cell_type": "code",
   "execution_count": 135,
   "outputs": [
    {
     "data": {
      "text/plain": "           stl%      blk%   blk       3pa      3par       orb      tov%  \\\n503    0.459916  0.274752  0.40  0.072464  0.107353  0.421053  0.626866   \n508    0.248945  0.136139  0.20  0.202899  0.264706  0.315789  0.380597   \n516    0.527426  0.111386  0.15  0.159420  0.217647  0.184211  0.511194   \n529    0.421941  0.202970  0.25  0.043478  0.057353  0.473684  0.615672   \n531    0.409283  0.081683  0.10  0.173913  0.236765  0.315789  0.533582   \n...         ...       ...   ...       ...       ...       ...       ...   \n52957  0.341772  0.116337  0.10  0.391304  0.530882  0.236842  0.458955   \n52958  0.139241  0.217822  0.25  0.246377  0.313235  0.342105  0.425373   \n52959  0.324895  0.118812  0.15  0.492754  0.541176  0.263158  0.104478   \n52960  0.523207  0.326733  0.35  0.391304  0.502941  0.131579  0.201493   \n52961  0.097046  0.146040  0.15  0.347826  0.454412  0.210526  0.481343   \n\n             3p       ast      ortg  ...  fta_opp_10  3p%_opp_10  ts%_opp_10  \\\n503    0.034483  0.195652  0.563670  ...    0.456349     0.31305    0.411080   \n508    0.137931  0.478261  0.521536  ...    0.372222     0.32640    0.433333   \n516    0.137931  0.304348  0.351124  ...    0.293651     0.36875    0.441098   \n529    0.034483  0.282609  0.482210  ...    0.458730     0.32135    0.408239   \n531    0.068966  0.347826  0.515918  ...    0.432540     0.41140    0.516477   \n...         ...       ...       ...  ...         ...         ...         ...   \n52957  0.379310  0.413043  0.672285  ...    0.322222     0.35220    0.548485   \n52958  0.172414  0.521739  0.635768  ...    0.317460     0.34430    0.530208   \n52959  0.379310  0.347826  0.480337  ...    0.361905     0.32615    0.552936   \n52960  0.482759  0.478261  0.649813  ...    0.315079     0.34460    0.531250   \n52961  0.275862  0.413043  0.512172  ...    0.372222     0.32565    0.547159   \n\n       total_opp_10  home_opp_10  won_10  season_10  home_next  team_opp_next  \\\n503        0.350394         0.50    0.70     1999.0        1.0            LAC   \n508        0.358268         0.60    0.30     1999.0        1.0            ORL   \n516        0.307480         0.45    0.70     1999.0        0.0            DAL   \n529        0.344094         0.50    0.70     1999.0        1.0            GSW   \n531        0.403150         0.55    0.25     1999.0        0.0            SAS   \n...             ...          ...     ...        ...        ...            ...   \n52957      0.463386         0.45    0.70     2023.0        0.0            MIA   \n52958      0.453543         0.45    0.75     2023.0        0.0            MIA   \n52959      0.455906         0.55    0.60     2023.0        1.0            DEN   \n52960      0.444488         0.45    0.80     2023.0        NaN            NaN   \n52961      0.444094         0.50    0.60     2023.0        NaN            NaN   \n\n        date_next  \n503    1999-03-10  \n508    1999-03-11  \n516    1999-03-11  \n529    1999-03-12  \n531    1999-03-13  \n...           ...  \n52957  2023-06-07  \n52958  2023-06-09  \n52959  2023-06-09  \n52960         NaN  \n52961         NaN  \n\n[41030 rows x 155 columns]",
      "text/html": "<div>\n<style scoped>\n    .dataframe tbody tr th:only-of-type {\n        vertical-align: middle;\n    }\n\n    .dataframe tbody tr th {\n        vertical-align: top;\n    }\n\n    .dataframe thead th {\n        text-align: right;\n    }\n</style>\n<table border=\"1\" class=\"dataframe\">\n  <thead>\n    <tr style=\"text-align: right;\">\n      <th></th>\n      <th>stl%</th>\n      <th>blk%</th>\n      <th>blk</th>\n      <th>3pa</th>\n      <th>3par</th>\n      <th>orb</th>\n      <th>tov%</th>\n      <th>3p</th>\n      <th>ast</th>\n      <th>ortg</th>\n      <th>...</th>\n      <th>fta_opp_10</th>\n      <th>3p%_opp_10</th>\n      <th>ts%_opp_10</th>\n      <th>total_opp_10</th>\n      <th>home_opp_10</th>\n      <th>won_10</th>\n      <th>season_10</th>\n      <th>home_next</th>\n      <th>team_opp_next</th>\n      <th>date_next</th>\n    </tr>\n  </thead>\n  <tbody>\n    <tr>\n      <th>503</th>\n      <td>0.459916</td>\n      <td>0.274752</td>\n      <td>0.40</td>\n      <td>0.072464</td>\n      <td>0.107353</td>\n      <td>0.421053</td>\n      <td>0.626866</td>\n      <td>0.034483</td>\n      <td>0.195652</td>\n      <td>0.563670</td>\n      <td>...</td>\n      <td>0.456349</td>\n      <td>0.31305</td>\n      <td>0.411080</td>\n      <td>0.350394</td>\n      <td>0.50</td>\n      <td>0.70</td>\n      <td>1999.0</td>\n      <td>1.0</td>\n      <td>LAC</td>\n      <td>1999-03-10</td>\n    </tr>\n    <tr>\n      <th>508</th>\n      <td>0.248945</td>\n      <td>0.136139</td>\n      <td>0.20</td>\n      <td>0.202899</td>\n      <td>0.264706</td>\n      <td>0.315789</td>\n      <td>0.380597</td>\n      <td>0.137931</td>\n      <td>0.478261</td>\n      <td>0.521536</td>\n      <td>...</td>\n      <td>0.372222</td>\n      <td>0.32640</td>\n      <td>0.433333</td>\n      <td>0.358268</td>\n      <td>0.60</td>\n      <td>0.30</td>\n      <td>1999.0</td>\n      <td>1.0</td>\n      <td>ORL</td>\n      <td>1999-03-11</td>\n    </tr>\n    <tr>\n      <th>516</th>\n      <td>0.527426</td>\n      <td>0.111386</td>\n      <td>0.15</td>\n      <td>0.159420</td>\n      <td>0.217647</td>\n      <td>0.184211</td>\n      <td>0.511194</td>\n      <td>0.137931</td>\n      <td>0.304348</td>\n      <td>0.351124</td>\n      <td>...</td>\n      <td>0.293651</td>\n      <td>0.36875</td>\n      <td>0.441098</td>\n      <td>0.307480</td>\n      <td>0.45</td>\n      <td>0.70</td>\n      <td>1999.0</td>\n      <td>0.0</td>\n      <td>DAL</td>\n      <td>1999-03-11</td>\n    </tr>\n    <tr>\n      <th>529</th>\n      <td>0.421941</td>\n      <td>0.202970</td>\n      <td>0.25</td>\n      <td>0.043478</td>\n      <td>0.057353</td>\n      <td>0.473684</td>\n      <td>0.615672</td>\n      <td>0.034483</td>\n      <td>0.282609</td>\n      <td>0.482210</td>\n      <td>...</td>\n      <td>0.458730</td>\n      <td>0.32135</td>\n      <td>0.408239</td>\n      <td>0.344094</td>\n      <td>0.50</td>\n      <td>0.70</td>\n      <td>1999.0</td>\n      <td>1.0</td>\n      <td>GSW</td>\n      <td>1999-03-12</td>\n    </tr>\n    <tr>\n      <th>531</th>\n      <td>0.409283</td>\n      <td>0.081683</td>\n      <td>0.10</td>\n      <td>0.173913</td>\n      <td>0.236765</td>\n      <td>0.315789</td>\n      <td>0.533582</td>\n      <td>0.068966</td>\n      <td>0.347826</td>\n      <td>0.515918</td>\n      <td>...</td>\n      <td>0.432540</td>\n      <td>0.41140</td>\n      <td>0.516477</td>\n      <td>0.403150</td>\n      <td>0.55</td>\n      <td>0.25</td>\n      <td>1999.0</td>\n      <td>0.0</td>\n      <td>SAS</td>\n      <td>1999-03-13</td>\n    </tr>\n    <tr>\n      <th>...</th>\n      <td>...</td>\n      <td>...</td>\n      <td>...</td>\n      <td>...</td>\n      <td>...</td>\n      <td>...</td>\n      <td>...</td>\n      <td>...</td>\n      <td>...</td>\n      <td>...</td>\n      <td>...</td>\n      <td>...</td>\n      <td>...</td>\n      <td>...</td>\n      <td>...</td>\n      <td>...</td>\n      <td>...</td>\n      <td>...</td>\n      <td>...</td>\n      <td>...</td>\n      <td>...</td>\n    </tr>\n    <tr>\n      <th>52957</th>\n      <td>0.341772</td>\n      <td>0.116337</td>\n      <td>0.10</td>\n      <td>0.391304</td>\n      <td>0.530882</td>\n      <td>0.236842</td>\n      <td>0.458955</td>\n      <td>0.379310</td>\n      <td>0.413043</td>\n      <td>0.672285</td>\n      <td>...</td>\n      <td>0.322222</td>\n      <td>0.35220</td>\n      <td>0.548485</td>\n      <td>0.463386</td>\n      <td>0.45</td>\n      <td>0.70</td>\n      <td>2023.0</td>\n      <td>0.0</td>\n      <td>MIA</td>\n      <td>2023-06-07</td>\n    </tr>\n    <tr>\n      <th>52958</th>\n      <td>0.139241</td>\n      <td>0.217822</td>\n      <td>0.25</td>\n      <td>0.246377</td>\n      <td>0.313235</td>\n      <td>0.342105</td>\n      <td>0.425373</td>\n      <td>0.172414</td>\n      <td>0.521739</td>\n      <td>0.635768</td>\n      <td>...</td>\n      <td>0.317460</td>\n      <td>0.34430</td>\n      <td>0.530208</td>\n      <td>0.453543</td>\n      <td>0.45</td>\n      <td>0.75</td>\n      <td>2023.0</td>\n      <td>0.0</td>\n      <td>MIA</td>\n      <td>2023-06-09</td>\n    </tr>\n    <tr>\n      <th>52959</th>\n      <td>0.324895</td>\n      <td>0.118812</td>\n      <td>0.15</td>\n      <td>0.492754</td>\n      <td>0.541176</td>\n      <td>0.263158</td>\n      <td>0.104478</td>\n      <td>0.379310</td>\n      <td>0.347826</td>\n      <td>0.480337</td>\n      <td>...</td>\n      <td>0.361905</td>\n      <td>0.32615</td>\n      <td>0.552936</td>\n      <td>0.455906</td>\n      <td>0.55</td>\n      <td>0.60</td>\n      <td>2023.0</td>\n      <td>1.0</td>\n      <td>DEN</td>\n      <td>2023-06-09</td>\n    </tr>\n    <tr>\n      <th>52960</th>\n      <td>0.523207</td>\n      <td>0.326733</td>\n      <td>0.35</td>\n      <td>0.391304</td>\n      <td>0.502941</td>\n      <td>0.131579</td>\n      <td>0.201493</td>\n      <td>0.482759</td>\n      <td>0.478261</td>\n      <td>0.649813</td>\n      <td>...</td>\n      <td>0.315079</td>\n      <td>0.34460</td>\n      <td>0.531250</td>\n      <td>0.444488</td>\n      <td>0.45</td>\n      <td>0.80</td>\n      <td>2023.0</td>\n      <td>NaN</td>\n      <td>NaN</td>\n      <td>NaN</td>\n    </tr>\n    <tr>\n      <th>52961</th>\n      <td>0.097046</td>\n      <td>0.146040</td>\n      <td>0.15</td>\n      <td>0.347826</td>\n      <td>0.454412</td>\n      <td>0.210526</td>\n      <td>0.481343</td>\n      <td>0.275862</td>\n      <td>0.413043</td>\n      <td>0.512172</td>\n      <td>...</td>\n      <td>0.372222</td>\n      <td>0.32565</td>\n      <td>0.547159</td>\n      <td>0.444094</td>\n      <td>0.50</td>\n      <td>0.60</td>\n      <td>2023.0</td>\n      <td>NaN</td>\n      <td>NaN</td>\n      <td>NaN</td>\n    </tr>\n  </tbody>\n</table>\n<p>41030 rows × 155 columns</p>\n</div>"
     },
     "execution_count": 135,
     "metadata": {},
     "output_type": "execute_result"
    }
   ],
   "source": [
    "df"
   ],
   "metadata": {
    "collapsed": false
   }
  }
 ],
 "metadata": {
  "kernelspec": {
   "display_name": "Python 3",
   "language": "python",
   "name": "python3"
  },
  "language_info": {
   "codemirror_mode": {
    "name": "ipython",
    "version": 2
   },
   "file_extension": ".py",
   "mimetype": "text/x-python",
   "name": "python",
   "nbconvert_exporter": "python",
   "pygments_lexer": "ipython2",
   "version": "2.7.6"
  }
 },
 "nbformat": 4,
 "nbformat_minor": 0
}
